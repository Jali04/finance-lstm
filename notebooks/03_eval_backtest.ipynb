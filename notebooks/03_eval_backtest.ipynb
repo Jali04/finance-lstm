{
 "cells": [
  {
   "cell_type": "raw",
   "id": "5df2c55f-8949-47a2-94b9-bb1bc25587a1",
   "metadata": {},
   "source": [
    "# -----------------------------------------\n",
    "# Block 4: Threshold-Tuning, Evaluation, Backtest & Plots\n",
    "# -----------------------------------------\n",
    "# Lädt die Artefakte aus dem letzten RUN_DIR, rekonstruiert\n",
    "# Val/Test-Splits, wählt einen optimalen Schwellenwert auf Val\n",
    "# (max. F1), evaluiert auf Test, erstellt Plots und einfachen Backtest.\n",
    "# -----------------------------------------"
   ]
  },
  {
   "cell_type": "code",
   "execution_count": 1,
   "id": "4c69ddd0-9c11-473b-a3c9-56496d3485ab",
   "metadata": {},
   "outputs": [],
   "source": [
    "import os, sys, json, time, glob\n",
    "from pathlib import Path\n",
    "import numpy as np\n",
    "import pandas as pd\n",
    "import matplotlib.pyplot as plt\n",
    "\n",
    "import tensorflow as tf\n",
    "from tensorflow import keras\n",
    "from sklearn.metrics import (\n",
    "    roc_curve, auc, precision_recall_curve, f1_score,\n",
    "    confusion_matrix, classification_report, brier_score_loss\n",
    ")\n",
    "from sklearn.calibration import calibration_curve\n",
    "import joblib"
   ]
  },
  {
   "cell_type": "code",
   "execution_count": 2,
   "id": "c0c90c28-8087-4221-9a3e-466d5312eb62",
   "metadata": {},
   "outputs": [
    {
     "name": "stdout",
     "output_type": "stream",
     "text": [
      "RUN_DIR: ..\\results\\2025-10-02_22-01-04_lstm\n"
     ]
    }
   ],
   "source": [
    "# --- Setup & Config laden ---\n",
    "ROOT = os.path.abspath(\"..\")\n",
    "if ROOT not in sys.path:\n",
    "    sys.path.insert(0, ROOT)\n",
    "\n",
    "with open(os.path.join(ROOT, \"config.json\"), \"r\") as f:\n",
    "    C = json.load(f)\n",
    "\n",
    "TICKER   = C[\"ticker\"]; START = C[\"start\"]; END = C[\"end\"]; INTERVAL = C[\"interval\"]\n",
    "HORIZON  = int(C[\"horizon\"]); LOOKBACK = int(C[\"lookback\"])\n",
    "BATCH    = int(C[\"batch\"]);   EPOCHS   = int(C[\"epochs\"])\n",
    "SEED     = int(C.get(\"seed\", 42))\n",
    "\n",
    "RESULTS_DIR = Path(C.get(\"results_dir\", \"../results\"))\n",
    "RESULTS_DIR.mkdir(parents=True, exist_ok=True)\n",
    "\n",
    "def _latest_run_dir(results_dir: Path) -> Path:\n",
    "    runs = sorted(results_dir.glob(\"*_lstm\"), key=lambda p: p.stat().st_mtime, reverse=True)\n",
    "    if not runs:\n",
    "        raise FileNotFoundError(\"Kein RUN_DIR gefunden. Bitte Block 3 trainieren.\")\n",
    "    return runs[0]\n",
    "\n",
    "RUN_DIR = _latest_run_dir(RESULTS_DIR)\n",
    "print(\"RUN_DIR:\", RUN_DIR)"
   ]
  },
  {
   "cell_type": "code",
   "execution_count": 3,
   "id": "70085932-0e7c-4267-a84a-55b823b98d9b",
   "metadata": {},
   "outputs": [],
   "source": [
    "# --- Artefakte laden ---\n",
    "MODEL_PATH = RUN_DIR / \"model.keras\"\n",
    "SCALER_PATH = RUN_DIR / \"scaler.joblib\"\n",
    "CFG_PATH = RUN_DIR / \"config.json\"\n",
    "assert MODEL_PATH.exists() and SCALER_PATH.exists() and CFG_PATH.exists(), \"Fehlende Artefakte.\"\n",
    "\n",
    "with open(CFG_PATH, \"r\") as f:\n",
    "    RCFG = json.load(f)"
   ]
  },
  {
   "cell_type": "code",
   "execution_count": 4,
   "id": "df61594e-f9dd-46eb-bb10-733b62a98a7d",
   "metadata": {},
   "outputs": [],
   "source": [
    "# Konsistenz prüfen\n",
    "assert RCFG[\"horizon\"] == HORIZON and RCFG[\"lookback\"] == LOOKBACK, \"Config-Mismatch.\"\n",
    "FEATURES = RCFG.get(\"features\", [\"logret_1d\"])\n",
    "\n",
    "model = keras.models.load_model(MODEL_PATH)\n",
    "scaler = joblib.load(SCALER_PATH)\n",
    "\n",
    "TRAIN_CSV = f\"../data/{TICKER}_{INTERVAL}_{START}_{END}_cls_h{HORIZON}.csv\"\n",
    "df = pd.read_csv(TRAIN_CSV, index_col=0, parse_dates=True).sort_index()"
   ]
  },
  {
   "cell_type": "code",
   "execution_count": 5,
   "id": "daa76384-d07a-4241-852d-453acb91b053",
   "metadata": {},
   "outputs": [],
   "source": [
    "# Erwartete Spalten\n",
    "exp = set(FEATURES) | {\"target\", \"close\"}\n",
    "missing = exp - set(df.columns)\n",
    "assert not missing, f\"Fehlende Spalten: {missing}\"\n",
    "assert not df.index.has_duplicates\n",
    "assert df.notna().all().all()"
   ]
  },
  {
   "cell_type": "code",
   "execution_count": 6,
   "id": "16bf5c8a-cda1-408d-a39e-b5f8f2de3f45",
   "metadata": {},
   "outputs": [],
   "source": [
    "# --- Splits wie in Block 3 (70/15/15) ---\n",
    "n = len(df)\n",
    "n_train = int(n * 0.70)\n",
    "n_val   = int(n * 0.15)\n",
    "n_test  = n - n_train - n_val\n",
    "\n",
    "train_idx = slice(0, n_train)\n",
    "val_idx   = slice(n_train, n_train + n_val)\n",
    "test_idx  = slice(n_train + n_val, n)\n",
    "\n",
    "X = df[FEATURES].copy()\n",
    "y = df[\"target\"].astype(int).copy()\n",
    "\n",
    "X_train, y_train = X.iloc[train_idx], y.iloc[train_idx]\n",
    "X_val,   y_val   = X.iloc[val_idx],   y.iloc[val_idx]\n",
    "X_test,  y_test  = X.iloc[test_idx],  y.iloc[test_idx]"
   ]
  },
  {
   "cell_type": "code",
   "execution_count": 7,
   "id": "feba5ff3-7331-465e-978f-6e8130ba4f34",
   "metadata": {},
   "outputs": [],
   "source": [
    "# --- Skalierung (nur auf TRAIN gefittet, wie Block 3) ---\n",
    "X_train_s = pd.DataFrame(scaler.transform(X_train), index=X_train.index, columns=FEATURES)\n",
    "X_val_s   = pd.DataFrame(scaler.transform(X_val),   index=X_val.index,   columns=FEATURES)\n",
    "X_test_s  = pd.DataFrame(scaler.transform(X_test),  index=X_test.index,  columns=FEATURES)"
   ]
  },
  {
   "cell_type": "code",
   "execution_count": 8,
   "id": "184eed6d-e7d7-4ba4-82b8-3895f8e44c25",
   "metadata": {},
   "outputs": [],
   "source": [
    "# --- Windowing wie Block 3 ---\n",
    "def make_windows(X_df: pd.DataFrame, y_ser: pd.Series, lookback: int):\n",
    "    X_values = X_df.values.astype(np.float32)\n",
    "    y_values = y_ser.values.astype(np.int32)\n",
    "    n = len(X_df)\n",
    "    xs, ys, idx_end = [], [], []\n",
    "    for i in range(lookback-1, n):\n",
    "        xs.append(X_values[i - lookback + 1 : i + 1])\n",
    "        ys.append(y_values[i])\n",
    "        idx_end.append(X_df.index[i])  # Endzeitpunkt des Fensters\n",
    "    return np.stack(xs, axis=0), np.array(ys), pd.DatetimeIndex(idx_end)\n",
    "\n",
    "Xtr_win, ytr, idx_tr = make_windows(X_train_s, y_train, LOOKBACK)\n",
    "Xva_win, yva, idx_va = make_windows(X_val_s,   y_val,   LOOKBACK)\n",
    "Xte_win, yte, idx_te = make_windows(X_test_s,  y_test,  LOOKBACK)\n",
    "\n",
    "def to_ds(X, y, batch, shuffle):\n",
    "    ds = tf.data.Dataset.from_tensor_slices((X, y))\n",
    "    if shuffle:\n",
    "        ds = ds.shuffle(buffer_size=len(X), seed=SEED, reshuffle_each_iteration=False)\n",
    "    return ds.batch(BATCH).prefetch(tf.data.AUTOTUNE)\n",
    "\n",
    "ds_val  = to_ds(Xva_win, yva, BATCH, shuffle=False)\n",
    "ds_test = to_ds(Xte_win, yte, BATCH, shuffle=False)"
   ]
  },
  {
   "cell_type": "code",
   "execution_count": 9,
   "id": "99bb5fb2-0eb7-42d1-aec2-6d9dd22e8bf2",
   "metadata": {},
   "outputs": [],
   "source": [
    "# --- Wahrscheinlichkeiten ---\n",
    "y_val_proba = model.predict(ds_val, verbose=0).ravel()\n",
    "y_test_proba = model.predict(ds_test, verbose=0).ravel()"
   ]
  },
  {
   "cell_type": "code",
   "execution_count": 12,
   "id": "4d007c3d-b6ef-462c-8fdf-7be9024a376f",
   "metadata": {},
   "outputs": [
    {
     "name": "stdout",
     "output_type": "stream",
     "text": [
      "Gewählter Threshold (Val): 0.499 | F1_val=0.672\n",
      "Test positives predicted: 449\n"
     ]
    }
   ],
   "source": [
    "def best_threshold_f1_strict(y_true, y_prob, min_pos_pred=1, min_neg_pred=1):\n",
    "    # Kandidaten: alle einzigartigen Scores (und 0,1 zur Sicherheit)\n",
    "    uniq = np.unique(y_prob)\n",
    "    cand = np.r_[0.0, uniq, 1.0]\n",
    "\n",
    "    best_t, best_f1 = 0.5, -1.0\n",
    "    for t in cand:\n",
    "        y_pred = (y_prob >= t).astype(int)\n",
    "        pos = y_pred.sum()\n",
    "        neg = len(y_pred) - pos\n",
    "        if pos < min_pos_pred or neg < min_neg_pred:\n",
    "            continue  # degenerierte Schwelle überspringen\n",
    "        f1 = f1_score(y_true, y_pred, zero_division=0)\n",
    "        if f1 > best_f1:\n",
    "            best_f1, best_t = f1, float(t)\n",
    "\n",
    "    if best_f1 < 0:  # Fallbacks, falls alles degeneriert war\n",
    "        # 1) Youden-J (ROC)\n",
    "        fpr, tpr, thr_roc = roc_curve(y_true, y_prob)\n",
    "        j = tpr - fpr\n",
    "        best_t = float(thr_roc[np.nanargmax(j)])\n",
    "        # 2) Begrenzen (optional), damit nicht extrem\n",
    "        best_t = float(np.clip(best_t, 0.1, 0.9))\n",
    "        best_f1 = f1_score(y_true, (y_prob >= best_t).astype(int), zero_division=0)\n",
    "\n",
    "    return best_t, best_f1\n",
    "\n",
    "# Nutzung (auf Validation):\n",
    "thr, f1_val = best_threshold_f1_strict(yva, y_val_proba)\n",
    "print(f\"Gewählter Threshold (Val): {thr:.3f} | F1_val={f1_val:.3f}\")\n",
    "\n",
    "# Test-Predictions\n",
    "y_test_pred = (y_test_proba >= thr).astype(int)\n",
    "print(\"Test positives predicted:\", int(y_test_pred.sum()))\n"
   ]
  },
  {
   "cell_type": "code",
   "execution_count": 13,
   "id": "69622102-33c4-4bfb-93bd-db3430a27529",
   "metadata": {},
   "outputs": [
    {
     "name": "stdout",
     "output_type": "stream",
     "text": [
      "Test positives true: 247 von 457\n",
      "Test positives predicted: 449\n",
      "Threshold: 0.49851155281066895\n"
     ]
    }
   ],
   "source": [
    "# --- Evaluation Test ---\n",
    "y_test_pred = (y_test_proba >= thr).astype(int)\n",
    "\n",
    "print(\"Test positives true:\", int(yte.sum()), \"von\", len(yte))\n",
    "print(\"Test positives predicted:\", int(y_test_pred.sum()))\n",
    "print(\"Threshold:\", thr)\n",
    "\n",
    "\n",
    "test_report = classification_report(yte, y_test_pred, digits=3, output_dict=True)\n",
    "cm = confusion_matrix(yte, y_test_pred)\n",
    "fpr, tpr, _ = roc_curve(yte, y_test_proba)\n",
    "roc_auc = auc(fpr, tpr)\n",
    "prec, rec, _ = precision_recall_curve(yte, y_test_proba)\n",
    "brier = brier_score_loss(yte, y_test_proba)\n",
    "\n",
    "metrics_out = {\n",
    "    \"val\": {\"threshold\": thr, \"f1\": f1_val},\n",
    "    \"test\": {\n",
    "        \"roc_auc\": float(roc_auc),\n",
    "        \"brier\": float(brier),\n",
    "        \"report\": test_report,\n",
    "        \"confusion_matrix\": cm.tolist(),\n",
    "    },\n",
    "}"
   ]
  },
  {
   "cell_type": "code",
   "execution_count": 14,
   "id": "939e4b3d-93a5-4de7-bdd2-abca77089c8e",
   "metadata": {},
   "outputs": [],
   "source": [
    "# --- Ordner für Plots ---\n",
    "FIG_DIR = RUN_DIR / \"figures\"\n",
    "FIG_DIR.mkdir(exist_ok=True, parents=True)"
   ]
  },
  {
   "cell_type": "code",
   "execution_count": 16,
   "id": "77fd10c0-df41-44e7-aaae-029acd604549",
   "metadata": {},
   "outputs": [],
   "source": [
    "# --- ROC & PR Kurven ---\n",
    "plt.figure(figsize=(6,4))\n",
    "plt.plot(fpr, tpr, label=f\"ROC AUC={roc_auc:.3f}\")\n",
    "plt.plot([0,1],[0,1], linestyle=\"--\")\n",
    "plt.xlabel(\"FPR\"); plt.ylabel(\"TPR\"); plt.title(\"ROC (Test)\"); plt.legend()\n",
    "plt.tight_layout(); plt.savefig(FIG_DIR / \"roc_test.png\", dpi=160); plt.close()\n",
    "\n",
    "plt.figure(figsize=(6,4))\n",
    "apprx_auc_pr = np.trapezoid(rec, prec)\n",
    "plt.plot(rec, prec, label=f\"AP≈{apprx_auc_pr:.3f}\")\n",
    "plt.xlabel(\"Recall\"); plt.ylabel(\"Precision\"); plt.title(\"Precision-Recall (Test)\"); plt.legend()\n",
    "plt.tight_layout(); plt.savefig(FIG_DIR / \"pr_test.png\", dpi=160); plt.close()"
   ]
  },
  {
   "cell_type": "code",
   "execution_count": 17,
   "id": "1815437c-6831-4da8-8b0d-5093e3759844",
   "metadata": {},
   "outputs": [],
   "source": [
    "# --- Kalibrierung ---\n",
    "prob_true, prob_pred = calibration_curve(yte, y_test_proba, n_bins=10, strategy=\"quantile\")\n",
    "plt.figure(figsize=(6,4))\n",
    "plt.plot([0,1],[0,1], \"--\")\n",
    "plt.plot(prob_pred, prob_true, marker=\"o\")\n",
    "plt.xlabel(\"Vorhergesagte Wahrscheinlichkeit\"); plt.ylabel(\"Tatsächlicher Anteil 1\")\n",
    "plt.title(\"Kalibrierung (Test)\")\n",
    "plt.tight_layout(); plt.savefig(FIG_DIR / \"calibration_test.png\", dpi=160); plt.close()"
   ]
  },
  {
   "cell_type": "code",
   "execution_count": 18,
   "id": "b58adcb6-16e3-4300-a296-e5f45f787bb6",
   "metadata": {},
   "outputs": [],
   "source": [
    "# --- Confusion Matrix ---\n",
    "plt.figure(figsize=(4.5,4))\n",
    "plt.imshow(cm, interpolation=\"nearest\")\n",
    "plt.title(\"Confusion Matrix (Test)\")\n",
    "plt.colorbar()\n",
    "tick_marks = np.arange(2)\n",
    "plt.xticks(tick_marks, [\"0\",\"1\"]); plt.yticks(tick_marks, [\"0\",\"1\"])\n",
    "for i in range(cm.shape[0]):\n",
    "    for j in range(cm.shape[1]):\n",
    "        plt.text(j, i, cm[i, j], ha=\"center\", va=\"center\")\n",
    "plt.xlabel(\"Predicted\"); plt.ylabel(\"True\")\n",
    "plt.tight_layout(); plt.savefig(FIG_DIR / \"cm_test.png\", dpi=160); plt.close()"
   ]
  },
  {
   "cell_type": "code",
   "execution_count": 19,
   "id": "8bd7d039-af81-4e95-9d6b-08ca9086bb67",
   "metadata": {},
   "outputs": [],
   "source": [
    "# --- Histogramm der Test-Probabilitäten ---\n",
    "plt.figure(figsize=(6,4))\n",
    "plt.hist(y_test_proba, bins=30)\n",
    "plt.axvline(thr, linestyle=\"--\")\n",
    "plt.title(\"P(y=1) Verteilung (Test)\")\n",
    "plt.tight_layout(); plt.savefig(FIG_DIR / \"proba_hist_test.png\", dpi=160); plt.close()"
   ]
  },
  {
   "cell_type": "code",
   "execution_count": 20,
   "id": "9d69e44a-a5e9-4d31-b5ac-0ed154ff772b",
   "metadata": {},
   "outputs": [],
   "source": [
    "# --- Predictions-CSV (Test) mit Zeitachse ---\n",
    "preds_test = pd.DataFrame({\n",
    "    \"timestamp\": idx_te,\n",
    "    \"y_true\": yte,\n",
    "    \"y_proba\": y_test_proba,\n",
    "    \"y_pred\": y_test_pred,\n",
    "})\n",
    "preds_test.set_index(\"timestamp\", inplace=True)\n",
    "preds_test.to_csv(RUN_DIR / \"preds_test.csv\")"
   ]
  },
  {
   "cell_type": "code",
   "execution_count": 21,
   "id": "9c9dda9c-cf66-4f84-9203-c6dcbb3b707e",
   "metadata": {},
   "outputs": [],
   "source": [
    "# --- Einfache Handels-Strategie & Backtest ---\n",
    "# Signal: long wenn proba >= thr am Zeitpunkt t (Fensterende), Haltedauer bis t+HORIZON\n",
    "# Realisierte Forward-Log-Return auf Close\n",
    "close = df[\"close\"].copy()\n",
    "fwd_logret = (np.log(close.shift(-HORIZON)) - np.log(close)).reindex(idx_te)\n",
    "\n",
    "signals = (preds_test[\"y_proba\"] >= thr).astype(int).reindex(idx_te)\n",
    "strategy_logret = signals * fwd_logret  # nur long, sonst 0\n",
    "\n",
    "equity = strategy_logret.fillna(0).cumsum().apply(np.exp)  # Startkapital=1\n",
    "bh_logret = (np.log(close.reindex(idx_te)) - np.log(close.reindex(idx_te).iloc[0])).fillna(0)\n",
    "bh_equity = np.exp(bh_logret)"
   ]
  },
  {
   "cell_type": "code",
   "execution_count": 22,
   "id": "6737d0c5-6b9f-4bcb-80a8-c001fd2a04b4",
   "metadata": {},
   "outputs": [],
   "source": [
    "# Kennzahlen (naiv, ohne Gebühren/Slippage)\n",
    "def _sharpe(logrets, periods_per_year=252):\n",
    "    if len(logrets) < 2: return float(\"nan\")\n",
    "    mu = logrets.mean() * periods_per_year\n",
    "    sigma = logrets.std(ddof=1) * np.sqrt(periods_per_year)\n",
    "    return float(mu / (sigma + 1e-12))\n",
    "\n",
    "def _cagr(equity_series, periods_per_year=252):\n",
    "    if len(equity_series) < 2: return float(\"nan\")\n",
    "    T = len(equity_series) / periods_per_year\n",
    "    return float((equity_series.iloc[-1] / equity_series.iloc[0])**(1.0/T) - 1.0)\n",
    "\n",
    "backtest = {\n",
    "    \"n_trades\": int(signals.sum()),\n",
    "    \"avg_holding_h\": HORIZON,\n",
    "    \"strategy\": {\n",
    "        \"CAGR\": _cagr(equity),\n",
    "        \"Sharpe\": _sharpe(strategy_logret.dropna()),\n",
    "        \"final_equity\": float(equity.iloc[-1]),\n",
    "    },\n",
    "    \"buy_hold\": {\n",
    "        \"CAGR\": _cagr(bh_equity),\n",
    "        \"final_equity\": float(bh_equity.iloc[-1]),\n",
    "    },\n",
    "}"
   ]
  },
  {
   "cell_type": "code",
   "execution_count": 24,
   "id": "a67200a9-a6e3-43c6-875f-62bff95b1c06",
   "metadata": {},
   "outputs": [],
   "source": [
    "# Plots: Equity\n",
    "plt.figure(figsize=(8,4))\n",
    "plt.plot(equity.index, equity.values, label=\"Strategy\")\n",
    "plt.plot(bh_equity.index, bh_equity.values, label=\"Buy & Hold\", linestyle=\"--\")\n",
    "plt.title(f\"Equity Curve (H={HORIZON})\")\n",
    "plt.legend(); plt.tight_layout()\n",
    "plt.savefig(FIG_DIR / \"equity_curves.png\", dpi=160); plt.close()\n",
    "\n",
    "# Plots: Forward-Return nach Klassen (Qualitätscheck)\n",
    "plt.figure(figsize=(6,4))\n",
    "plt.boxplot([fwd_logret[signals==0].dropna(), fwd_logret[signals==1].dropna()], tick_labels=[\"Signal=0\",\"Signal=1\"])\n",
    "plt.title(\"Forward Log-Return nach Signal\")\n",
    "plt.tight_layout(); plt.savefig(FIG_DIR / \"forward_returns_by_signal.png\", dpi=160); plt.close()"
   ]
  },
  {
   "cell_type": "code",
   "execution_count": 25,
   "id": "e9480494-1545-4cb5-b793-24eb71ed9eff",
   "metadata": {},
   "outputs": [
    {
     "name": "stdout",
     "output_type": "stream",
     "text": [
      "\n",
      "Block 4 abgeschlossen.\n",
      "Artefakte:\n",
      " - ..\\results\\2025-10-02_22-01-04_lstm\\preds_test.csv\n",
      " - ..\\results\\2025-10-02_22-01-04_lstm\\evaluation.json\n",
      " - ..\\results\\2025-10-02_22-01-04_lstm\\figures\n"
     ]
    }
   ],
   "source": [
    "# --- Results schreiben ---\n",
    "out = {\n",
    "    \"config\": RCFG,\n",
    "    \"threshold_selection\": {\"strategy\": \"max_f1_on_validation\", \"threshold\": thr, \"f1_val\": f1_val},\n",
    "    \"metrics\": metrics_out,\n",
    "    \"backtest\": backtest,\n",
    "}\n",
    "with open(RUN_DIR / \"evaluation.json\", \"w\") as f:\n",
    "    json.dump(out, f, indent=2)\n",
    "\n",
    "print(\"\\nBlock 4 abgeschlossen.\")\n",
    "print(\"Artefakte:\")\n",
    "print(\" -\", RUN_DIR / \"preds_test.csv\")\n",
    "print(\" -\", RUN_DIR / \"evaluation.json\")\n",
    "print(\" -\", FIG_DIR)"
   ]
  },
  {
   "cell_type": "code",
   "execution_count": null,
   "id": "34c23181-39d6-4d12-b294-a152d62e251b",
   "metadata": {},
   "outputs": [],
   "source": []
  }
 ],
 "metadata": {
  "kernelspec": {
   "display_name": "Python (finance-lstm)",
   "language": "python",
   "name": "finance-lstm"
  },
  "language_info": {
   "codemirror_mode": {
    "name": "ipython",
    "version": 3
   },
   "file_extension": ".py",
   "mimetype": "text/x-python",
   "name": "python",
   "nbconvert_exporter": "python",
   "pygments_lexer": "ipython3",
   "version": "3.10.11"
  }
 },
 "nbformat": 4,
 "nbformat_minor": 5
}
