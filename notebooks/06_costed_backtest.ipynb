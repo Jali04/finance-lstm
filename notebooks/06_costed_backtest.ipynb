{
 "cells": [
  {
   "cell_type": "code",
   "execution_count": 1,
   "id": "0e136527-d2d1-4569-a339-1bcbe8077d38",
   "metadata": {},
   "outputs": [],
   "source": [
    "import os, json, math\n",
    "from pathlib import Path\n",
    "import numpy as np\n",
    "import pandas as pd\n",
    "import matplotlib.pyplot as plt"
   ]
  },
  {
   "cell_type": "code",
   "execution_count": 2,
   "id": "b37a3408-28d9-4a9c-a92d-33d6e322eae5",
   "metadata": {},
   "outputs": [],
   "source": [
    "# -------------------- Meine empfohlenen Defaults --------------------\n",
    "ROUNDTRIP_BPS_DEFAULT = 15.0          # ← Hauptszenario: 15 bps Roundtrip (AAPL, H≈5)\n",
    "SENSI_BPS = [5.0, 10.0, 15.0, 25.0, 50.0, 100.0]   # ← Sensitivität\n",
    "SLIPPAGE_BPS_PER_LEG = 2.0            # ← 2 bps je Leg (Entry/Exit) ≈ +4 bps RT effektiv"
   ]
  },
  {
   "cell_type": "code",
   "execution_count": 3,
   "id": "e102defb-2866-4dbe-bebc-67624bd7cd58",
   "metadata": {},
   "outputs": [],
   "source": [
    "# -------------------- Artefakte laden --------------------\n",
    "ROOT = Path(\"..\")\n",
    "with open(ROOT/\"config.json\",\"r\") as f:\n",
    "    C = json.load(f)\n",
    "\n",
    "RESULTS_DIR = Path(C.get(\"results_dir\",\"../results\"))\n",
    "runs = sorted(RESULTS_DIR.glob(\"*_lstm\"), key=lambda p: p.stat().st_mtime, reverse=True)\n",
    "assert runs, \"Kein *_lstm Run-Ordner gefunden.\"\n",
    "RUN_DIR = runs[0]\n",
    "\n",
    "with open(RUN_DIR/\"config.json\",\"r\") as f:\n",
    "    RCFG = json.load(f)\n",
    "\n",
    "TRAIN_CSV = Path(RCFG[\"train_csv\"])\n",
    "H = int(RCFG[\"horizon\"])\n",
    "LOOKBACK = int(RCFG[\"lookback\"])\n",
    "\n",
    "preds = pd.read_csv(RUN_DIR/\"preds_test.csv\", parse_dates=[\"timestamp\"]).set_index(\"timestamp\").sort_index()\n",
    "df = pd.read_csv(TRAIN_CSV, index_col=0, parse_dates=True).sort_index()\n",
    "\n",
    "close = df[\"close\"].reindex(preds.index)\n",
    "assert close.notna().all(), \"Close-Preise fehlen auf Test-Index.\"\n",
    "\n",
    "with open(RUN_DIR/\"evaluation.json\",\"r\") as f:\n",
    "    EVAL = json.load(f)\n",
    "thr = float(EVAL[\"threshold_selection\"][\"threshold\"])\n",
    "\n",
    "proba_used = preds[\"y_proba_used\"].values\n",
    "sig_t  = (proba_used >= thr).astype(int)\n",
    "sig_t1 = pd.Series(sig_t, index=preds.index).shift(1).fillna(0).astype(int).values\n",
    "\n",
    "fwd_logret = (np.log(close.shift(-H)) - np.log(close)).values"
   ]
  },
  {
   "cell_type": "code",
   "execution_count": 4,
   "id": "c78a0ac9-2b29-42e3-a140-71197d6c56bb",
   "metadata": {},
   "outputs": [],
   "source": [
    "# -------------------- Kostenmodell --------------------\n",
    "def log_cost_for_roundtrip(rt_bps: float, slip_bps_per_leg: float = 0.0) -> float:\n",
    "    \"\"\"\n",
    "    Exakte Log-Kosten: je Leg c_leg = (rt_bps/2 + slippage_per_leg) / 1e4\n",
    "    Roundtrip-Logkosten = ln(1-c_leg) + ln(1-c_leg) = 2*ln(1-c_leg)\n",
    "    \"\"\"\n",
    "    per_leg_frac = (rt_bps/2.0 + slip_bps_per_leg) / 1e4\n",
    "    per_leg_frac = max(0.0, min(0.99, per_leg_frac))\n",
    "    return 2.0 * np.log(1.0 - per_leg_frac)\n",
    "\n",
    "def equity_from_signals(sig, logrets, rt_bps, slip_per_leg_bps=0.0):\n",
    "    sig = np.asarray(sig, int)\n",
    "    gross = (sig * np.nan_to_num(logrets, nan=0.0))\n",
    "    trades = sig.astype(bool)\n",
    "    log_cost = log_cost_for_roundtrip(rt_bps, slip_per_leg_bps)\n",
    "    net = gross + trades.astype(float) * log_cost\n",
    "    eq = np.exp(pd.Series(net).cumsum())\n",
    "    return eq, gross, net, trades.sum()\n",
    "\n",
    "def stats_from_equity(eq: pd.Series, net_logrets: pd.Series, periods_per_year=252):\n",
    "    eq = pd.Series(eq).dropna()\n",
    "    T = len(eq) / periods_per_year if len(eq) else 0.0\n",
    "    def cagr():\n",
    "        return float((eq.iloc[-1] / eq.iloc[0])**(1.0/max(T,1e-12)) - 1.0)\n",
    "    def sharpe():\n",
    "        lr = pd.Series(net_logrets).dropna()\n",
    "        mu = lr.mean() * periods_per_year\n",
    "        sd = lr.std(ddof=1) * math.sqrt(periods_per_year)\n",
    "        return float(mu / (sd + 1e-12)) if len(lr) > 1 else 0.0\n",
    "    def max_dd():\n",
    "        cum = np.log(eq.values)\n",
    "        peak = np.maximum.accumulate(cum)\n",
    "        dd = np.exp(cum - peak) - 1.0\n",
    "        return float(dd.min())\n",
    "    return dict(CAGR=cagr(), Sharpe=sharpe(), MaxDD=max_dd(), final_equity=float(eq.iloc[-1]))\n",
    "\n",
    "# Buy&Hold auf dem gleichen Fenster\n",
    "bh_log = (np.log(close) - np.log(close.iloc[0])).fillna(0.0)\n",
    "bh_eq = np.exp(bh_log)"
   ]
  },
  {
   "cell_type": "code",
   "execution_count": 5,
   "id": "a9e9d937-538c-49a1-b679-dcdb49bac9e8",
   "metadata": {},
   "outputs": [
    {
     "name": "stdout",
     "output_type": "stream",
     "text": [
      "[Block 6] Hauptszenario RT=15 bps | Slippage/Leg=2.0 bps\n",
      "Entry@t : trades= 192 | {'CAGR': 0.04458432743436713, 'Sharpe': 0.08722507342850089, 'MaxDD': -0.6953498570518268, 'final_equity': 1.081379254707068}\n",
      "Entry@t+1: trades= 191 | {'CAGR': -0.012312332789380487, 'Sharpe': -0.024303887046502683, 'MaxDD': -0.6809545725607603, 'final_equity': 0.9780239653946093}\n"
     ]
    }
   ],
   "source": [
    "# -------------------- Hauptszenario --------------------\n",
    "main_rt = ROUNDTRIP_BPS_DEFAULT\n",
    "eq_t,  g_t,  n_t,  n_tr_t  = equity_from_signals(sig_t,  fwd_logret, main_rt, SLIPPAGE_BPS_PER_LEG)\n",
    "eq_t1, g_t1, n_t1, n_tr_t1 = equity_from_signals(sig_t1, fwd_logret, main_rt, SLIPPAGE_BPS_PER_LEG)\n",
    "\n",
    "stats_t  = stats_from_equity(eq_t,  n_t)\n",
    "stats_t1 = stats_from_equity(eq_t1, n_t1)\n",
    "\n",
    "print(f\"[Block 6] Hauptszenario RT={main_rt:.0f} bps | Slippage/Leg={SLIPPAGE_BPS_PER_LEG:.1f} bps\")\n",
    "print(\"Entry@t : trades=\", n_tr_t,  \"|\", stats_t)\n",
    "print(\"Entry@t+1: trades=\", n_tr_t1, \"|\", stats_t1)\n",
    "\n",
    "# Plot speichern\n",
    "figdir = RUN_DIR/\"figures\"\n",
    "figdir.mkdir(parents=True, exist_ok=True)\n",
    "plt.figure(figsize=(8,4))\n",
    "plt.plot(preds.index, eq_t,  label=f\"Entry@t (net, {main_rt:.0f}bps, slip {SLIPPAGE_BPS_PER_LEG:.0f}/leg)\")\n",
    "plt.plot(preds.index, eq_t1, label=f\"Entry@t+1 (net, {main_rt:.0f}bps, slip {SLIPPAGE_BPS_PER_LEG:.0f}/leg)\")\n",
    "plt.plot(preds.index, bh_eq.reindex(preds.index), label=\"Buy & Hold\", linestyle=\"--\")\n",
    "plt.title(f\"Equity mit Kosten (H={H})\")\n",
    "plt.legend(); plt.tight_layout()\n",
    "plt.savefig(figdir/\"equity_costed.png\", dpi=160); plt.close()"
   ]
  },
  {
   "cell_type": "code",
   "execution_count": 6,
   "id": "04832b76-b045-483e-86f5-a15ce4cf718b",
   "metadata": {},
   "outputs": [
    {
     "name": "stdout",
     "output_type": "stream",
     "text": [
      "\n",
      "Sensitivität (bps):\n",
      "    model  roundtrip_bps  trades    CAGR  Sharpe   MaxDD  final_equity\n",
      "  Entry@t         5.0000     192  0.1627  0.3014 -0.6829        1.3105\n",
      "  Entry@t        10.0000     192  0.1021  0.1943 -0.6892        1.1904\n",
      "  Entry@t        15.0000     192  0.0446  0.0872 -0.6953        1.0814\n",
      "  Entry@t        25.0000     192 -0.0616 -0.1271 -0.7073        0.8923\n",
      "  Entry@t        50.0000     192 -0.2823 -0.6626 -0.7352        0.5516\n",
      "  Entry@t       100.0000     192 -0.5807 -1.7239 -0.8322        0.2104\n",
      "Entry@t+1         5.0000     191  0.0987  0.1847 -0.6679        1.1840\n",
      "Entry@t+1        10.0000     191  0.0417  0.0802 -0.6745        1.0761\n",
      "Entry@t+1        15.0000     191 -0.0123 -0.0243 -0.6810        0.9780\n",
      "Entry@t+1        25.0000     191 -0.1122 -0.2334 -0.6935        0.8078\n",
      "Entry@t+1        50.0000     191 -0.3201 -0.7556 -0.7227        0.5006\n",
      "Entry@t+1       100.0000     191 -0.6016 -1.7897 -0.8173        0.1919\n"
     ]
    }
   ],
   "source": [
    "# -------------------- Sensitivität --------------------\n",
    "rows = []\n",
    "for rt in SENSI_BPS:\n",
    "    eqA, gA, nA, ntrA = equity_from_signals(sig_t,  fwd_logret, rt, SLIPPAGE_BPS_PER_LEG)\n",
    "    eqB, gB, nB, ntrB = equity_from_signals(sig_t1, fwd_logret, rt, SLIPPAGE_BPS_PER_LEG)\n",
    "    rows.append(dict(model=\"Entry@t\",   roundtrip_bps=rt, trades=int(ntrA), **stats_from_equity(eqA, nA)))\n",
    "    rows.append(dict(model=\"Entry@t+1\", roundtrip_bps=rt, trades=int(ntrB), **stats_from_equity(eqB, nB)))\n",
    "\n",
    "sensi = pd.DataFrame(rows).sort_values([\"model\",\"roundtrip_bps\"])\n",
    "sensi_path = RUN_DIR/\"cost_sensitivity.csv\"\n",
    "sensi.to_csv(sensi_path, index=False)\n",
    "\n",
    "print(\"\\nSensitivität (bps):\")\n",
    "print(sensi.to_string(index=False, float_format=lambda x: f\"{x:,.4f}\"))"
   ]
  },
  {
   "cell_type": "code",
   "execution_count": 7,
   "id": "5b85fe2a-8edd-417d-8e4b-9545f1cc01df",
   "metadata": {},
   "outputs": [
    {
     "name": "stdout",
     "output_type": "stream",
     "text": [
      "\n",
      "Block 6 abgeschlossen →\n",
      " - figures/equity_costed.png\n",
      " - cost_sensitivity.csv\n",
      " - evaluation.json (mit backtest_costs)\n"
     ]
    }
   ],
   "source": [
    "# -------------------- evaluation.json anreichern --------------------\n",
    "cost_block = {\n",
    "    \"roundtrip_bps_default\": main_rt,\n",
    "    \"slippage_bps_per_leg\": SLIPPAGE_BPS_PER_LEG,\n",
    "    \"entry_t\":  {\"trades\": int(n_tr_t),  **stats_t},\n",
    "    \"entry_t1\": {\"trades\": int(n_tr_t1), **stats_t1},\n",
    "    \"sensitivity_csv\": str(sensi_path.as_posix()),\n",
    "    \"equity_costed_png\": str((figdir/\"equity_costed.png\").as_posix())\n",
    "}\n",
    "EVAL[\"backtest_costs\"] = cost_block\n",
    "with open(RUN_DIR/\"evaluation.json\",\"w\") as f:\n",
    "    json.dump(EVAL, f, indent=2)\n",
    "\n",
    "print(\"\\nBlock 6 abgeschlossen →\")\n",
    "print(\" - figures/equity_costed.png\")\n",
    "print(\" - cost_sensitivity.csv\")\n",
    "print(\" - evaluation.json (mit backtest_costs)\")"
   ]
  },
  {
   "cell_type": "code",
   "execution_count": null,
   "id": "de37376d-fd9a-4f7c-a2c8-46df941e3c38",
   "metadata": {},
   "outputs": [],
   "source": []
  }
 ],
 "metadata": {
  "kernelspec": {
   "display_name": "Python (finance-lstm)",
   "language": "python",
   "name": "finance-lstm"
  },
  "language_info": {
   "codemirror_mode": {
    "name": "ipython",
    "version": 3
   },
   "file_extension": ".py",
   "mimetype": "text/x-python",
   "name": "python",
   "nbconvert_exporter": "python",
   "pygments_lexer": "ipython3",
   "version": "3.10.11"
  }
 },
 "nbformat": 4,
 "nbformat_minor": 5
}
