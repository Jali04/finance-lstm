{
 "cells": [
  {
   "cell_type": "code",
   "execution_count": 37,
   "id": "c12c49ff-b9f8-44d1-aa37-fe5661c06d0e",
   "metadata": {},
   "outputs": [
    {
     "name": "stdout",
     "output_type": "stream",
     "text": [
      "Python: 3.10.11 (tags/v3.10.11:7d4cc5a, Apr  5 2023, 00:38:17) [MSC v.1929 64 bit (AMD64)]\n",
      "OS: Windows-10-10.0.26200-SP0\n",
      "tensorflow: 2.20.0 | GPUs: 0\n"
     ]
    }
   ],
   "source": [
    "import sys, platform\n",
    "print(\"Python:\", sys.version)\n",
    "print(\"OS:\", platform.platform())\n",
    "try:\n",
    "    import tensorflow as tf\n",
    "    print(\"tensorflow:\", tf.__version__, \"| GPUs:\", len(tf.config.list_physical_devices('GPU')))\n",
    "except Exception as e:\n",
    "    print(\"TF-Check:\", e)\n"
   ]
  },
  {
   "cell_type": "raw",
   "id": "3f6e23bd-e526-4ece-8c86-101137e014b3",
   "metadata": {},
   "source": [
    "# -----------------------------------------\n",
    "# Block 1: Daten laden & einfrieren (CSV)\n",
    "# -----------------------------------------\n",
    "# In diesem Schritt holen wir uns historische Kursdaten\n",
    "# (OHLCV = Open, High, Low, Close, Volume) von Yahoo Finance.\n",
    "# Wir \"frieren\" den Datensatz dann als CSV ein, damit er in allen\n",
    "# späteren Schritten reproduzierbar bleibt.\n",
    "# -----------------------------------------"
   ]
  },
  {
   "cell_type": "raw",
   "id": "83232c64-5a84-488c-8c62-28197f6b4691",
   "metadata": {},
   "source": [
    "# ---- Konfiguration: Welches Asset, Zeitraum, Intervall ----\n",
    "# TICKER   = Symbol des Assets\n",
    "# START    = Startdatum\n",
    "# END      = Enddatum\n",
    "# INTERVAL = Zeitintervall ('1d' = täglich, '1h' = stündlich, ...)"
   ]
  },
  {
   "cell_type": "code",
   "execution_count": 38,
   "id": "34660e13-0121-46cd-8179-34f31a8ccb63",
   "metadata": {},
   "outputs": [],
   "source": [
    "import os, sys, json, time\n",
    "from pathlib import Path\n",
    "\n",
    "ROOT = os.path.abspath(\"..\")\n",
    "if ROOT not in sys.path:\n",
    "    sys.path.insert(0, ROOT)\n",
    "\n",
    "from finance_lstm import read_prices \n",
    "import pandas as pd \n",
    "import yfinance as yf \n",
    "import matplotlib.pyplot as plt \n",
    "import numpy as np\n",
    "\n",
    "with open(os.path.join(ROOT, \"config.json\"), \"r\") as f:\n",
    "    C = json.load(f)\n",
    "\n",
    "def _require(cfg, keys):\n",
    "    miss = set(keys) - set(cfg)\n",
    "    if miss:\n",
    "        raise KeyError(f\"Missing config keys: {sorted(miss)}\")\n",
    "\n",
    "_require(C, [\"ticker\",\"start\",\"end\",\"interval\",\"horizon\",\"lookback\",\"batch\",\"epochs\"])\n",
    "\n",
    "TICKER   = C[\"ticker\"]\n",
    "START    = C[\"start\"]\n",
    "END      = C[\"end\"]\n",
    "INTERVAL = C[\"interval\"]\n",
    "HORIZON  = int(C[\"horizon\"])\n",
    "LOOKBACK = int(C[\"lookback\"])\n",
    "BATCH    = int(C[\"batch\"])\n",
    "EPOCHS   = int(C[\"epochs\"])\n",
    "SEED     = int(C.get(\"seed\", 42))\n",
    "\n",
    "RESULTS_DIR = Path(C.get(\"results_dir\", \"../results\"))\n",
    "RESULTS_DIR.mkdir(parents=True, exist_ok=True)\n",
    "\n",
    "RAW_CSV   = f\"../data/{TICKER}_{INTERVAL}_{START}_{END}.csv\"\n",
    "#TRAIN_CSV = f\"../data/{TICKER}_{INTERVAL}_{START}_{END}_cls_h{HORIZON}.csv\"\n"
   ]
  },
  {
   "cell_type": "raw",
   "id": "0f788665-ca6a-4cc8-9f03-3c95cc02811e",
   "metadata": {},
   "source": [
    "# ---- Daten laden ----\n",
    "# auto_adjust=True sorgt dafür, dass Kurse um Splits & Dividenden bereinigt sind.\n",
    "# Ohne diese Adjustierung würde das Modell \"falsche\" Sprünge sehen."
   ]
  },
  {
   "cell_type": "code",
   "execution_count": 39,
   "id": "6aff64f1-2f00-4a00-b609-6b813ba6e665",
   "metadata": {},
   "outputs": [],
   "source": [
    "df = yf.download(\n",
    "    TICKER, start=START, end=END, interval=INTERVAL,\n",
    "    auto_adjust=True, group_by=\"column\", threads=False, progress=False\n",
    ")"
   ]
  },
  {
   "cell_type": "raw",
   "id": "cd064474-e560-431a-a6fa-c794ec7ef1c4",
   "metadata": {},
   "source": [
    "# ---- Spalten umbenennen & NaNs entfernen ----\n",
    "# Vereinheitlichte Namen (klein geschrieben), z. B. 'close' statt 'Close'"
   ]
  },
  {
   "cell_type": "code",
   "execution_count": 40,
   "id": "436d98a0-5358-4cc5-95a3-b559033fc568",
   "metadata": {},
   "outputs": [],
   "source": [
    "# --- Spalten robust vereinheitlichen ---\n",
    "# MultiIndex? -> Ebene mit den Feldnamen (Open/High/...) finden\n",
    "if isinstance(df.columns, pd.MultiIndex):\n",
    "    top  = df.columns.get_level_values(0).str.lower()\n",
    "    bot  = df.columns.get_level_values(1).str.lower()\n",
    "    # Falls die untere Ebene die typischen Felder enthält, nimm die:\n",
    "    if {\"open\",\"high\",\"low\",\"close\",\"adj close\",\"volume\"} & set(bot):\n",
    "        df.columns = df.columns.get_level_values(1)\n",
    "    # Falls die obere Ebene die Felder enthält (selten), nimm die:\n",
    "    elif {\"open\",\"high\",\"low\",\"close\",\"adj close\",\"volume\"} & set(top):\n",
    "        df.columns = df.columns.get_level_values(0)\n",
    "    else:\n",
    "        # Fallback: Wenn die obere Ebene überall der Ticker ist (aapl...),\n",
    "        # dann nimm die untere Ebene.\n",
    "        if len(set(top)) == 1:\n",
    "            df.columns = df.columns.get_level_values(1)\n",
    "        else:\n",
    "            raise RuntimeError(f\"Unbekannte MultiIndex-Struktur: {list(df.columns)})\")\n",
    "\n",
    "# Spaltennamen normalisieren\n",
    "df = df.rename(columns=lambda c: str(c).strip().lower().replace(\" \", \"\"))\n",
    "\n",
    "# Wenn nur adjclose existiert, bau close daraus\n",
    "if \"close\" not in df.columns and \"adjclose\" in df.columns:\n",
    "    df[\"close\"] = df[\"adjclose\"]\n",
    "\n",
    "# Index & Reihenfolge\n",
    "df.index = pd.to_datetime(df.index, errors=\"coerce\")\n",
    "df = df[~df.index.isna()].sort_index()\n",
    "\n",
    "# Pflichtspalten prüfen (BEVOR du droppst):\n",
    "required = {\"open\",\"high\",\"low\",\"close\",\"volume\"}\n",
    "missing  = required - set(df.columns)\n",
    "if missing:\n",
    "    print(\"Spalten gefunden:\", list(df.columns))\n",
    "    raise KeyError(f\"Fehlende Pflichtspalten nach Normalisierung: {sorted(missing)}\")\n",
    "\n",
    "# Numerik + NaNs raus\n",
    "for c in required.union({\"adjclose\"}):\n",
    "    if c in df.columns:\n",
    "        df[c] = pd.to_numeric(df[c], errors=\"coerce\")\n",
    "df = df.dropna(subset=list(required), how=\"any\")\n"
   ]
  },
  {
   "cell_type": "code",
   "execution_count": 41,
   "id": "02050a22-3f99-4fef-bde8-5843e8b93735",
   "metadata": {},
   "outputs": [
    {
     "name": "stdout",
     "output_type": "stream",
     "text": [
      "Spalten final: ['close', 'high', 'low', 'open', 'volume']\n",
      "Zeitraum: 2012-01-03 → 2025-08-29 | n = 3435\n"
     ]
    }
   ],
   "source": [
    "# --- Quick sanity checks ---\n",
    "if df.empty:\n",
    "    raise ValueError(\"Download ergab keine Daten. Ist das Intervall/Datum ok? Rate-Limit?\")\n",
    "if df.index.has_duplicates:\n",
    "    raise ValueError(\"Duplicate timestamps gefunden.\")\n",
    "\n",
    "print(\"Spalten final:\", df.columns.tolist())\n",
    "print(\"Zeitraum:\", df.index.min().date(), \"→\", df.index.max().date(), \"| n =\", len(df))"
   ]
  },
  {
   "cell_type": "code",
   "execution_count": 42,
   "id": "41faf137-1326-46dd-a3be-e2c8ec7156ae",
   "metadata": {},
   "outputs": [
    {
     "data": {
      "image/png": "[encoded data removed]",
      "text/plain": [
       "<Figure size 900x400 with 1 Axes>"
      ]
     },
     "metadata": {},
     "output_type": "display_data"
    }
   ],
   "source": [
    "# --- Plot ---\n",
    "df[\"close\"].plot(title=f\"{TICKER} Close ({INTERVAL})\", figsize=(9,4))\n",
    "plt.show()"
   ]
  },
  {
   "cell_type": "code",
   "execution_count": 43,
   "id": "e4c0a397-b426-42e1-9749-2fbee45403ee",
   "metadata": {},
   "outputs": [
    {
     "name": "stdout",
     "output_type": "stream",
     "text": [
      "CSV gespeichert unter: ../data/AAPL_1d_2012-01-01_2025-09-01.csv\n"
     ]
    }
   ],
   "source": [
    "# --- CSV einfrieren (mit den standardisierten Namen) ---\n",
    "os.makedirs(\"../data\", exist_ok=True)\n",
    "csv_path = f\"../data/{TICKER}_{INTERVAL}_{START}_{END}.csv\"\n",
    "df.to_csv(csv_path)\n",
    "print(\"CSV gespeichert unter:\", csv_path)"
   ]
  },
  {
   "cell_type": "code",
   "execution_count": 44,
   "id": "64d119a2-6c8a-4517-b059-b4cbbbc12e2c",
   "metadata": {},
   "outputs": [
    {
     "name": "stdout",
     "output_type": "stream",
     "text": [
      "Manifest & Profiling geschrieben.\n"
     ]
    }
   ],
   "source": [
    "# --- Manifest & Profiling ---\n",
    "import hashlib, json\n",
    "\n",
    "def _sha256_file(path, chunk=1<<20):\n",
    "    h = hashlib.sha256()\n",
    "    with open(path, \"rb\") as f:\n",
    "        while True:\n",
    "            b = f.read(chunk)\n",
    "            if not b: break\n",
    "            h.update(b)\n",
    "    return h.hexdigest()\n",
    "\n",
    "manifest = {\n",
    "    \"ticker\": TICKER, \"interval\": INTERVAL, \"start\": START, \"end\": END,\n",
    "    \"rows\": int(len(df)), \"first_ts\": str(df.index.min()), \"last_ts\": str(df.index.max()),\n",
    "    \"sha256\": _sha256_file(csv_path),\n",
    "    \"created_utc\": time.strftime(\"%Y-%m-%dT%H:%M:%SZ\", time.gmtime())\n",
    "}\n",
    "with open(\"../data/DATA_MANIFEST.json\", \"w\") as f:\n",
    "    json.dump(manifest, f, indent=2)\n",
    "\n",
    "profiling = {\n",
    "    \"n\": int(len(df)),\n",
    "    \"na_any\": int(df.isna().any().any()),\n",
    "    \"close_min\": float(df[\"close\"].min()),\n",
    "    \"close_max\": float(df[\"close\"].max()),\n",
    "    \"logret_1d_mean\": float(np.log(df[\"close\"]).diff().dropna().mean()),\n",
    "    \"logret_1d_std\": float(np.log(df[\"close\"]).diff().dropna().std()),\n",
    "}\n",
    "with open(\"../data/profiling.json\", \"w\") as f:\n",
    "    json.dump(profiling, f, indent=2)\n",
    "\n",
    "print(\"Manifest & Profiling geschrieben.\")\n"
   ]
  },
  {
   "cell_type": "raw",
   "id": "699070aa-3ebf-4887-b4c5-dc7463f5b216",
   "metadata": {},
   "source": [
    "# -----------------------------------------------------------\n",
    "# Block 2: Zielvariable bauen – Klassifikation (Up/Down)\n",
    "# -----------------------------------------------------------\n",
    "# Ziel: Für jeden Tag t sagen wir vorher, ob der Kurs in t+h\n",
    "# (HORIZON) höher ist als in t. target = 1 (up) oder 0 (down).\n",
    "# Wir arbeiten auf dem \"eingefrorenen\" CSV aus Block 1.\n",
    "# -----------------------------------------------------------\n",
    "# Horizon oben definieren\n",
    "# import numpy as np "
   ]
  },
  {
   "cell_type": "code",
   "execution_count": 45,
   "id": "a9b57228-5339-4cdd-8651-f02311920020",
   "metadata": {},
   "outputs": [],
   "source": [
    "import numpy as np, yaml, json\n",
    "import pandas as pd\n",
    "from finance_lstm import read_prices"
   ]
  },
  {
   "cell_type": "code",
   "execution_count": 46,
   "id": "33ecb753-23a2-4b1d-8de7-c41129406158",
   "metadata": {},
   "outputs": [],
   "source": [
    "FEATURESET = \"v2\"          # wir fahren v2\n",
    "EPS_MODE   = \"abs\"         # absolute Schwelle\n",
    "EPSILON    = 0.0005        # ~5 bp\n",
    "HORIZON    = 5             # <-- Var B: ruhigeres Label\n",
    "\n",
    "# Für die LogReg-Diagnose (Fensterende-Ausrichtung wie im Training):\n",
    "with open(os.path.join(ROOT, \"config.json\"), \"r\") as f:\n",
    "    _C = json.load(f)\n",
    "LOOKBACK = int(_C.get(\"lookback\", 60))\n",
    "\n",
    "raw_csv_path = f\"../data/{TICKER}_{INTERVAL}_{START}_{END}.csv\"\n",
    "df_raw = read_prices(raw_csv_path)\n",
    "assert (df_raw[\"close\"] > 0).all()"
   ]
  },
  {
   "cell_type": "code",
   "execution_count": 47,
   "id": "e86b7e3e-62e3-48d5-bcd8-b6680adfeb6b",
   "metadata": {},
   "outputs": [],
   "source": [
    "# -------- Featurebau (wie gehabt, v2) --------\n",
    "def _rsi(close: pd.Series, n=14):\n",
    "    r = close.diff().fillna(0.0)\n",
    "    up  = r.clip(lower=0.0); dn = (-r).clip(lower=0.0)\n",
    "    roll_up = up.rolling(n, min_periods=n).mean()\n",
    "    roll_dn = dn.rolling(n, min_periods=n).mean()\n",
    "    rs  = roll_up / (roll_dn + 1e-12)\n",
    "    return 100.0 - (100.0 / (1.0 + rs))\n",
    "\n",
    "def _macd(close: pd.Series, fast=12, slow=26, signal=9):\n",
    "    ema_fast = close.ewm(span=fast, adjust=False, min_periods=fast).mean()\n",
    "    ema_slow = close.ewm(span=slow, adjust=False, min_periods=slow).mean()\n",
    "    macd = ema_fast - ema_slow\n",
    "    macd_sig = macd.ewm(span=signal, adjust=False, min_periods=signal).mean()\n",
    "    return macd, macd_sig, macd - macd_sig\n",
    "\n",
    "def build_features_v2(frame: pd.DataFrame) -> pd.DataFrame:\n",
    "    out = frame.copy()\n",
    "    out[\"logret_1d\"] = np.log(out[\"close\"]).diff()\n",
    "    out[\"logret_3d\"] = out[\"logret_1d\"].rolling(3, min_periods=3).sum()\n",
    "    out[\"logret_5d\"] = out[\"logret_1d\"].rolling(5, min_periods=5).sum()\n",
    "    out[\"realized_vol_10\"] = out[\"logret_1d\"].rolling(10, min_periods=10).std()\n",
    "    sma20 = out[\"close\"].rolling(20, min_periods=20).mean()\n",
    "    std20 = out[\"close\"].rolling(20, min_periods=20).std()\n",
    "    out[\"bb_pos\"] = (out[\"close\"] - sma20) / (2.0*std20 + 1e-12)\n",
    "    out[\"rsi_14\"] = _rsi(out[\"close\"], 14)\n",
    "    macd, macd_sig, macd_diff = _macd(out[\"close\"])\n",
    "    out[\"macd\"] = macd; out[\"macd_sig\"] = macd_sig; out[\"macd_diff\"] = macd_diff\n",
    "    out[\"log_vol\"] = np.log(out[\"volume\"].replace(0, np.nan))\n",
    "    roll_med = out[\"log_vol\"].rolling(20, min_periods=20).median()\n",
    "    roll_mad = out[\"log_vol\"].rolling(20, min_periods=20).apply(\n",
    "        lambda x: np.median(np.abs(x - np.median(x))), raw=True\n",
    "    )\n",
    "    out[\"vol_z_20\"] = (out[\"log_vol\"] - roll_med) / (roll_mad + 1e-12)\n",
    "    out[\"sma_diff\"] = (out[\"close\"].rolling(10, min_periods=10).mean() /\n",
    "                       (out[\"close\"].rolling(20, min_periods=20).mean() + 1e-12) - 1.0)\n",
    "    return out\n",
    "\n",
    "df_feat = build_features_v2(df_raw)"
   ]
  },
  {
   "cell_type": "code",
   "execution_count": 48,
   "id": "8d790b57-4319-4cda-a5bc-527636436705",
   "metadata": {},
   "outputs": [],
   "source": [
    "# -------- Labeling: Var A (abs. Kosten-Schwelle) --------\n",
    "fut = np.log(df_feat[\"close\"]).shift(-HORIZON)\n",
    "cur = np.log(df_feat[\"close\"])\n",
    "fwd_logret = fut - cur\n",
    "\n",
    "if EPS_MODE == \"quantile\":\n",
    "    # falls wir später mal Q-Var testen wollen\n",
    "    eps_val = float(fwd_logret.quantile(EPSILON if 0 < EPSILON < 1 else 0.55))\n",
    "else:\n",
    "    eps_val = float(EPSILON)  # <-- absolute log-return Schwelle\n",
    "\n",
    "df_feat[\"target\"] = (fwd_logret > eps_val).astype(\"int8\")\n",
    "\n",
    "# Aufräumen\n",
    "df_clean = df_feat.dropna().sort_index()"
   ]
  },
  {
   "cell_type": "code",
   "execution_count": 49,
   "id": "b594eda8-f5d5-4dba-8b0f-66349383ea0c",
   "metadata": {},
   "outputs": [],
   "source": [
    "# -------- Artefakte & saubere Namen --------\n",
    "features_list = [\n",
    "    \"logret_1d\",\"logret_3d\",\"logret_5d\",\n",
    "    \"realized_vol_10\",\"bb_pos\",\"rsi_14\",\n",
    "    \"macd\",\"macd_sig\",\"macd_diff\",\n",
    "    \"vol_z_20\",\"sma_diff\",\n",
    "]\n",
    "feature_meta = {\n",
    "    \"name\": f\"features_{FEATURESET}\",\n",
    "    \"features\": features_list,\n",
    "    \"label\": {\"horizon\": HORIZON, \"epsilon\": eps_val, \"mode\": EPS_MODE},\n",
    "    \"note\": \"Nur rückwärtsgerichtete Rolling/EMA; keine Future-Leaks.\"\n",
    "}\n",
    "with open(f\"../data/features_{FEATURESET}.yml\", \"w\") as f:\n",
    "    yaml.safe_dump(feature_meta, f)"
   ]
  },
  {
   "cell_type": "code",
   "execution_count": 50,
   "id": "6772f556-69a0-482b-9207-fb0fb57a5b64",
   "metadata": {},
   "outputs": [
    {
     "name": "stdout",
     "output_type": "stream",
     "text": [
      "Train-CSV: ../data/AAPL_1d_2012-01-01_2025-09-01_cls_h5_abs0p0005.csv\n",
      "targets_summary: {'horizon': 5, 'epsilon': 0.0005, 'mode': 'abs', 'n': 3402, 'class_counts': {0: 1488, 1: 1914}, 'pos_rate': 0.562610229276896}\n",
      "                close  logret_1d  target\n",
      "Date                                    \n",
      "2012-02-21  15.455864   0.025037       1\n",
      "2012-02-22  15.401525  -0.003522       1\n",
      "2012-02-23  15.502090   0.006508       1\n",
      "2012-02-24  15.682805   0.011590       1\n",
      "2012-02-27  15.783379   0.006393       1\n"
     ]
    }
   ],
   "source": [
    "# → dateiname mit H, Mode & Eps (reproduzierbar & kollisionsfrei)\n",
    "eps_tag = f\"{EPS_MODE}{str(EPSILON).replace('.','p')}\"\n",
    "train_csv_out = f\"../data/{TICKER}_{INTERVAL}_{START}_{END}_cls_h{HORIZON}_{eps_tag}.csv\"\n",
    "df_clean.to_csv(train_csv_out, float_format=\"%.8f\")\n",
    "\n",
    "vc = df_clean[\"target\"].value_counts().sort_index()\n",
    "targets_summary = {\n",
    "    \"horizon\": HORIZON, \"epsilon\": eps_val, \"mode\": EPS_MODE,\n",
    "    \"n\": int(len(df_clean)),\n",
    "    \"class_counts\": {int(k): int(v) for k, v in vc.items()},\n",
    "    \"pos_rate\": float(vc.get(1,0)/vc.sum()) if vc.sum() else None,\n",
    "}\n",
    "with open(\"../data/targets_summary.json\", \"w\") as f:\n",
    "    json.dump(targets_summary, f, indent=2)\n",
    "\n",
    "print(\"Train-CSV:\", train_csv_out)\n",
    "print(\"targets_summary:\", targets_summary)\n",
    "print(df_clean[[\"close\",\"logret_1d\",\"target\"]].head())"
   ]
  },
  {
   "cell_type": "code",
   "execution_count": 51,
   "id": "95ee2651-f978-4b5b-b65b-cda4eeb410cf",
   "metadata": {},
   "outputs": [
    {
     "name": "stdout",
     "output_type": "stream",
     "text": [
      "pos_rate overall: 0.563 | n: 3402\n",
      "pos_rate train/val/test: 0.577 0.535 0.524\n"
     ]
    }
   ],
   "source": [
    "# --- Diagnose 1: Label-Verteilung & Split ---\n",
    "print(\"pos_rate overall:\", round(df_clean[\"target\"].mean(), 3), \"| n:\", len(df_clean))\n",
    "\n",
    "# identischer 70/15/15-Split wie in Block 3/4\n",
    "n = len(df_clean)\n",
    "n_train = int(n * 0.70)\n",
    "n_val   = int(n * 0.15)\n",
    "train_idx = slice(0, n_train)\n",
    "val_idx   = slice(n_train, n_train + n_val)\n",
    "test_idx  = slice(n_train + n_val, n)\n",
    "\n",
    "y_train = df_clean[\"target\"].iloc[train_idx]\n",
    "y_val   = df_clean[\"target\"].iloc[val_idx]\n",
    "y_test  = df_clean[\"target\"].iloc[test_idx]\n",
    "print(\"pos_rate train/val/test:\",\n",
    "      round(y_train.mean(),3), round(y_val.mean(),3), round(y_test.mean(),3))\n"
   ]
  },
  {
   "cell_type": "code",
   "execution_count": 52,
   "id": "32dd3df2-0e01-4599-96ca-cb4253032682",
   "metadata": {},
   "outputs": [
    {
     "name": "stdout",
     "output_type": "stream",
     "text": [
      "[Baseline LogReg] AUROC val/test = 0.592/0.445\n"
     ]
    }
   ],
   "source": [
    "# --- Diagnose 2: Baseline-LogReg (AUROC) ---\n",
    "import yaml\n",
    "from sklearn.preprocessing import StandardScaler\n",
    "from sklearn.linear_model import LogisticRegression\n",
    "from sklearn.metrics import roc_auc_score\n",
    "\n",
    "# Features v2 aus YAML lesen und auf vorhandene Spalten schneiden\n",
    "with open(f\"../data/features_{FEATURESET}.yml\", \"r\") as f:\n",
    "    meta = yaml.safe_load(f) or {}\n",
    "FEATURES = [c for c in meta.get(\"features\", []) if c in df_clean.columns]\n",
    "\n",
    "X = df_clean[FEATURES].copy()\n",
    "X_train = X.iloc[train_idx]; X_val = X.iloc[val_idx]; X_test = X.iloc[test_idx]\n",
    "\n",
    "scaler = StandardScaler(with_mean=True, with_std=True)\n",
    "X_train_s = pd.DataFrame(scaler.fit_transform(X_train), index=X_train.index, columns=FEATURES)\n",
    "X_val_s   = pd.DataFrame(scaler.transform(X_val),       index=X_val.index,   columns=FEATURES)\n",
    "X_test_s  = pd.DataFrame(scaler.transform(X_test),      index=X_test.index,  columns=FEATURES)\n",
    "\n",
    "# Fensterende an LOOKBACK ausrichten (wie das Netz)\n",
    "Xtr_tail = X_train_s.iloc[LOOKBACK-1:]; ytr_tail = y_train.iloc[LOOKBACK-1:]\n",
    "Xva_tail = X_val_s.iloc[LOOKBACK-1:];   yva_tail = y_val.iloc[LOOKBACK-1:]\n",
    "Xte_tail = X_test_s.iloc[LOOKBACK-1:];  yte_tail = y_test.iloc[LOOKBACK-1:]\n",
    "\n",
    "logit = LogisticRegression(max_iter=200)\n",
    "logit.fit(Xtr_tail, ytr_tail)\n",
    "va_auc = roc_auc_score(yva_tail, logit.predict_proba(Xva_tail)[:,1])\n",
    "te_auc = roc_auc_score(yte_tail, logit.predict_proba(Xte_tail)[:,1])\n",
    "print(f\"[Baseline LogReg] AUROC val/test = {va_auc:.3f}/{te_auc:.3f}\")\n"
   ]
  },
  {
   "cell_type": "code",
   "execution_count": 53,
   "id": "cabbdc51-5669-4d3f-93c3-ce6345412e6d",
   "metadata": {},
   "outputs": [
    {
     "name": "stdout",
     "output_type": "stream",
     "text": [
      "Spalten: ['open', 'high', 'low', 'close', 'volume', 'logret_1d', 'logret_3d', 'logret_5d', 'realized_vol_10', 'bb_pos', 'rsi_14', 'macd', 'macd_sig', 'macd_diff', 'log_vol', 'vol_z_20', 'sma_diff', 'target']\n",
      "Zeitraum: 2012-02-21 → 2025-08-29 | n = 3402\n",
      "\n",
      "Vorschau:\n",
      "                 close  logret_1d  target\n",
      "Date                                    \n",
      "2012-02-21  15.455864   0.025037       1\n",
      "2012-02-22  15.401525  -0.003522       1\n",
      "2012-02-23  15.502090   0.006508       1\n",
      "2012-02-24  15.682805   0.011590       1\n",
      "2012-02-27  15.783379   0.006393       1\n",
      "\n",
      "Klassenverteilung 0/1: {0: 1488, 1: 1914} | Anteil 1: 0.563\n"
     ]
    }
   ],
   "source": [
    "# --- Checks & Vorschau ---\n",
    "print(\"Spalten:\", df_clean.columns.tolist())\n",
    "print(\"Zeitraum:\", df_clean.index.min().date(), \"→\", df_clean.index.max().date(), \"| n =\", len(df_clean))\n",
    "print(\"\\nVorschau:\\n\", df_clean[[\"close\",\"logret_1d\",\"target\"]].head())\n",
    "print(\"\\nKlassenverteilung 0/1:\", vc.to_dict(), \"| Anteil 1:\", round(vc.get(1,0)/vc.sum(), 3))"
   ]
  },
  {
   "cell_type": "code",
   "execution_count": 54,
   "id": "0a4180ed-4cbc-4b79-9ef7-58ffcb2c5408",
   "metadata": {},
   "outputs": [
    {
     "name": "stdout",
     "output_type": "stream",
     "text": [
      "\n",
      "Horizon-Check: 2012-07-13 -> 2012-07-20\n",
      "close_i = 18.161273956298828  | close_j = 18.14115524291992\n",
      "target_i = 0\n"
     ]
    }
   ],
   "source": [
    "# --- Mini-Horizon-Demo (konsistent aus df_clean) ---\n",
    "k = 100\n",
    "if len(df_clean) <= max(k, HORIZON):\n",
    "    raise ValueError(\"Zu wenige Zeilen für Mini-Demo. Wähle kleineren k oder prüfe HORIZON.\")\n",
    "\n",
    "i = df_clean.index[k]\n",
    "pos_j = df_clean.index.get_loc(i) + HORIZON\n",
    "if pos_j >= len(df_clean):\n",
    "    raise IndexError(\"Index j liegt außerhalb des df_clean nach HORIZON-Shift.\")\n",
    "j = df_clean.index[pos_j]\n",
    "\n",
    "print(f\"\\nHorizon-Check: {i.date()} -> {j.date()}\")\n",
    "print(\"close_i =\", float(df_clean.loc[i, \"close\"]), \" | close_j =\", float(df_clean.loc[j, \"close\"]))\n",
    "print(\"target_i =\", int(df_clean.loc[i, \"target\"]))"
   ]
  },
  {
   "cell_type": "code",
   "execution_count": 55,
   "id": "2661efbb-4914-45a3-9f7a-578136bacd7c",
   "metadata": {},
   "outputs": [],
   "source": [
    "# --- Sentinel für Block 3: damit H/EPS/Datei eindeutig aus den Daten kommen ---\n",
    "label_run = {\n",
    "    \"train_csv\": train_csv_out,\n",
    "    \"features_yaml\": f\"../data/features_{FEATURESET}.yml\",\n",
    "    \"label\": {\"horizon\": HORIZON, \"epsilon\": eps_val, \"mode\": EPS_MODE},\n",
    "}\n",
    "with open(\"../data/LABEL_RUN.json\", \"w\") as f:\n",
    "    json.dump(label_run, f, indent=2)"
   ]
  },
  {
   "cell_type": "raw",
   "id": "38e6e618-9493-4ba6-a4a1-77bd39acb561",
   "metadata": {},
   "source": [
    "# Hinweis zur Leckage:\n",
    "# Wir haben target ausschließlich aus 'close' gebaut und für die Zukunft per .shift(-HORIZON)\n",
    "# versetzt. Features, die wir später bauen, dürfen ebenfalls nur Informationen bis t enthalten."
   ]
  },
  {
   "cell_type": "code",
   "execution_count": null,
   "id": "551a04d4-fdd7-42c3-af89-13d75b7121cc",
   "metadata": {},
   "outputs": [],
   "source": []
  }
 ],
 "metadata": {
  "kernelspec": {
   "display_name": "Python (finance-lstm)",
   "language": "python",
   "name": "finance-lstm"
  },
  "language_info": {
   "codemirror_mode": {
    "name": "ipython",
    "version": 3
   },
   "file_extension": ".py",
   "mimetype": "text/x-python",
   "name": "python",
   "nbconvert_exporter": "python",
   "pygments_lexer": "ipython3",
   "version": "3.10.11"
  }
 },
 "nbformat": 4,
 "nbformat_minor": 5
}
