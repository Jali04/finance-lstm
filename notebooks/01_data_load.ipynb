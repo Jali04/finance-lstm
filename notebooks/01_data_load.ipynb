{
 "cells": [
  {
   "cell_type": "code",
   "execution_count": 122,
   "id": "c12c49ff-b9f8-44d1-aa37-fe5661c06d0e",
   "metadata": {},
   "outputs": [
    {
     "name": "stdout",
     "output_type": "stream",
     "text": [
      "Python: 3.10.11 (tags/v3.10.11:7d4cc5a, Apr  5 2023, 00:38:17) [MSC v.1929 64 bit (AMD64)]\n",
      "OS: Windows-10-10.0.26100-SP0\n",
      "tensorflow: 2.20.0 | GPUs: 0\n"
     ]
    }
   ],
   "source": [
    "import sys, platform\n",
    "print(\"Python:\", sys.version)\n",
    "print(\"OS:\", platform.platform())\n",
    "try:\n",
    "    import tensorflow as tf\n",
    "    print(\"tensorflow:\", tf.__version__, \"| GPUs:\", len(tf.config.list_physical_devices('GPU')))\n",
    "except Exception as e:\n",
    "    print(\"TF-Check:\", e)\n"
   ]
  },
  {
   "cell_type": "raw",
   "id": "3f6e23bd-e526-4ece-8c86-101137e014b3",
   "metadata": {},
   "source": [
    "# -----------------------------------------\n",
    "# Block 1: Daten laden & einfrieren (CSV)\n",
    "# -----------------------------------------\n",
    "# In diesem Schritt holen wir uns historische Kursdaten\n",
    "# (OHLCV = Open, High, Low, Close, Volume) von Yahoo Finance.\n",
    "# Wir \"frieren\" den Datensatz dann als CSV ein, damit er in allen\n",
    "# späteren Schritten reproduzierbar bleibt.\n",
    "# -----------------------------------------"
   ]
  },
  {
   "cell_type": "code",
   "execution_count": 125,
   "id": "6358e9ce-680d-465e-befa-24eca1b00ddf",
   "metadata": {},
   "outputs": [],
   "source": [
    "import sys, os\n",
    "ROOT = os.path.abspath(\"..\")  # Projekt-Root (eine Ebene über notebooks/)\n",
    "if ROOT not in sys.path:\n",
    "    sys.path.insert(0, ROOT)\n",
    "\n",
    "from finance_lstm import read_prices\n",
    "import pandas as pd\n",
    "import yfinance as yf\n",
    "import matplotlib.pyplot as plt\n",
    "import numpy as np"
   ]
  },
  {
   "cell_type": "raw",
   "id": "83232c64-5a84-488c-8c62-28197f6b4691",
   "metadata": {},
   "source": [
    "# ---- Konfiguration: Welches Asset, Zeitraum, Intervall ----\n",
    "# TICKER   = Symbol des Assets\n",
    "# START    = Startdatum\n",
    "# END      = Enddatum\n",
    "# INTERVAL = Zeitintervall ('1d' = täglich, '1h' = stündlich, ...)"
   ]
  },
  {
   "cell_type": "code",
   "execution_count": 126,
   "id": "64019298-04ae-48f4-884c-ca68eb13ef8e",
   "metadata": {},
   "outputs": [],
   "source": [
    "TICKER   = \"AAPL\"           # Beispiel: Apple\n",
    "START    = \"2012-01-01\"\n",
    "END      = \"2025-09-01\"\n",
    "INTERVAL = \"1d\"\n",
    "HORIZON = 1                 # Vorhersage: 1 Tag in die Zukunft"
   ]
  },
  {
   "cell_type": "raw",
   "id": "0f788665-ca6a-4cc8-9f03-3c95cc02811e",
   "metadata": {},
   "source": [
    "# ---- Daten laden ----\n",
    "# auto_adjust=True sorgt dafür, dass Kurse um Splits & Dividenden bereinigt sind.\n",
    "# Ohne diese Adjustierung würde das Modell \"falsche\" Sprünge sehen."
   ]
  },
  {
   "cell_type": "code",
   "execution_count": 127,
   "id": "6aff64f1-2f00-4a00-b609-6b813ba6e665",
   "metadata": {},
   "outputs": [],
   "source": [
    "df = yf.download(\n",
    "    TICKER, start=START, end=END, interval=INTERVAL,\n",
    "    auto_adjust=True, group_by=\"column\", threads=False, progress=False\n",
    ")"
   ]
  },
  {
   "cell_type": "raw",
   "id": "cd064474-e560-431a-a6fa-c794ec7ef1c4",
   "metadata": {},
   "source": [
    "# ---- Spalten umbenennen & NaNs entfernen ----\n",
    "# Vereinheitlichte Namen (klein geschrieben), z. B. 'close' statt 'Close'"
   ]
  },
  {
   "cell_type": "code",
   "execution_count": 128,
   "id": "436d98a0-5358-4cc5-95a3-b559033fc568",
   "metadata": {},
   "outputs": [],
   "source": [
    "# --- Spalten robust vereinheitlichen ---\n",
    "# MultiIndex? -> Ebene mit den Feldnamen (Open/High/...) finden\n",
    "if isinstance(df.columns, pd.MultiIndex):\n",
    "    top  = df.columns.get_level_values(0).str.lower()\n",
    "    bot  = df.columns.get_level_values(1).str.lower()\n",
    "    # Falls die untere Ebene die typischen Felder enthält, nimm die:\n",
    "    if {\"open\",\"high\",\"low\",\"close\",\"adj close\",\"volume\"} & set(bot):\n",
    "        df.columns = df.columns.get_level_values(1)\n",
    "    # Falls die obere Ebene die Felder enthält (selten), nimm die:\n",
    "    elif {\"open\",\"high\",\"low\",\"close\",\"adj close\",\"volume\"} & set(top):\n",
    "        df.columns = df.columns.get_level_values(0)\n",
    "    else:\n",
    "        # Fallback: Wenn die obere Ebene überall der Ticker ist (aapl...),\n",
    "        # dann nimm die untere Ebene.\n",
    "        if len(set(top)) == 1:\n",
    "            df.columns = df.columns.get_level_values(1)\n",
    "        else:\n",
    "            raise RuntimeError(f\"Unbekannte MultiIndex-Struktur: {list(df.columns)})\")\n",
    "\n",
    "# Spaltennamen normalisieren\n",
    "df = df.rename(columns=lambda c: str(c).strip().lower().replace(\" \", \"\"))\n",
    "\n",
    "# Wenn nur adjclose existiert, bau close daraus\n",
    "if \"close\" not in df.columns and \"adjclose\" in df.columns:\n",
    "    df[\"close\"] = df[\"adjclose\"]\n",
    "\n",
    "# Index & Reihenfolge\n",
    "df.index = pd.to_datetime(df.index, errors=\"coerce\")\n",
    "df = df[~df.index.isna()].sort_index()\n",
    "\n",
    "# Pflichtspalten prüfen (BEVOR du droppst):\n",
    "required = {\"open\",\"high\",\"low\",\"close\",\"volume\"}\n",
    "missing  = required - set(df.columns)\n",
    "if missing:\n",
    "    print(\"Spalten gefunden:\", list(df.columns))\n",
    "    raise KeyError(f\"Fehlende Pflichtspalten nach Normalisierung: {sorted(missing)}\")\n",
    "\n",
    "# Numerik + NaNs raus\n",
    "for c in required.union({\"adjclose\"}):\n",
    "    if c in df.columns:\n",
    "        df[c] = pd.to_numeric(df[c], errors=\"coerce\")\n",
    "df = df.dropna(subset=list(required), how=\"any\")\n"
   ]
  },
  {
   "cell_type": "code",
   "execution_count": 129,
   "id": "02050a22-3f99-4fef-bde8-5843e8b93735",
   "metadata": {},
   "outputs": [
    {
     "name": "stdout",
     "output_type": "stream",
     "text": [
      "Spalten final: ['close', 'high', 'low', 'open', 'volume']\n",
      "Zeitraum: 2012-01-03 → 2025-08-29 | n = 3435\n"
     ]
    }
   ],
   "source": [
    "# --- Quick sanity checks ---\n",
    "if df.empty:\n",
    "    raise ValueError(\"Download ergab keine Daten. Ist das Intervall/Datum ok? Rate-Limit?\")\n",
    "if df.index.has_duplicates:\n",
    "    raise ValueError(\"Duplicate timestamps gefunden.\")\n",
    "\n",
    "print(\"Spalten final:\", df.columns.tolist())\n",
    "print(\"Zeitraum:\", df.index.min().date(), \"→\", df.index.max().date(), \"| n =\", len(df))"
   ]
  },
  {
   "cell_type": "code",
   "execution_count": 130,
   "id": "41faf137-1326-46dd-a3be-e2c8ec7156ae",
   "metadata": {},
   "outputs": [
    {
     "data": {
      "image/png": "[encoded data removed]",
      "text/plain": [
       "<Figure size 900x400 with 1 Axes>"
      ]
     },
     "metadata": {},
     "output_type": "display_data"
    }
   ],
   "source": [
    "# --- Plot ---\n",
    "df[\"close\"].plot(title=f\"{TICKER} Close ({INTERVAL})\", figsize=(9,4))\n",
    "plt.show()"
   ]
  },
  {
   "cell_type": "code",
   "execution_count": 131,
   "id": "e4c0a397-b426-42e1-9749-2fbee45403ee",
   "metadata": {},
   "outputs": [
    {
     "name": "stdout",
     "output_type": "stream",
     "text": [
      "CSV gespeichert unter: ../data/AAPL_1d_2012-01-01_2025-09-01.csv\n"
     ]
    }
   ],
   "source": [
    "# --- CSV einfrieren (mit den standardisierten Namen) ---\n",
    "os.makedirs(\"../data\", exist_ok=True)\n",
    "csv_path = f\"../data/{TICKER}_{INTERVAL}_{START}_{END}.csv\"\n",
    "df.to_csv(csv_path)\n",
    "print(\"CSV gespeichert unter:\", csv_path)"
   ]
  },
  {
   "cell_type": "raw",
   "id": "699070aa-3ebf-4887-b4c5-dc7463f5b216",
   "metadata": {},
   "source": [
    "# -----------------------------------------------------------\n",
    "# Block 2: Zielvariable bauen – Klassifikation (Up/Down)\n",
    "# -----------------------------------------------------------\n",
    "# Ziel: Für jeden Tag t sagen wir vorher, ob der Kurs in t+h\n",
    "# (HORIZON) höher ist als in t. target = 1 (up) oder 0 (down).\n",
    "# Wir arbeiten auf dem \"eingefrorenen\" CSV aus Block 1.\n",
    "# -----------------------------------------------------------\n",
    "# Horizon oben definieren\n",
    "# import numpy as np "
   ]
  },
  {
   "cell_type": "code",
   "execution_count": 132,
   "id": "a9b57228-5339-4cdd-8651-f02311920020",
   "metadata": {},
   "outputs": [],
   "source": [
    "csv_path = f\"../data/{TICKER}_{INTERVAL}_{START}_{END}.csv\"\n",
    "df = read_prices(csv_path)"
   ]
  },
  {
   "cell_type": "code",
   "execution_count": 133,
   "id": "e86b7e3e-62e3-48d5-bcd8-b6680adfeb6b",
   "metadata": {},
   "outputs": [],
   "source": [
    "exp = {\"open\",\"high\",\"low\",\"close\",\"volume\"}\n",
    "assert exp.issubset(df.columns), f\"Columns fehlen: {sorted(exp - set(df.columns))}\"\n",
    "assert not df.index.has_duplicates, \"Duplicate timestamps\"\n",
    "assert (df[\"close\"] > 0).all(), \"Close muss positiv sein\"\n",
    "assert df.notna().all().all(), \"NaNs im Frame\"\n"
   ]
  },
  {
   "cell_type": "code",
   "execution_count": 134,
   "id": "23a764bf-3517-452c-a887-f5704dac8d79",
   "metadata": {},
   "outputs": [],
   "source": [
    "# ---- 2) Hilfsfeature: 1-Tages-Logreturn (optional) ----\n",
    "na_counts = df.isna().sum()\n",
    "assert na_counts.sum() == 0, f\"Remaining NaNs detected: {na_counts[na_counts > 0]}\"\n",
    "\n",
    "if (df[\"close\"] <= 0).any():\n",
    "    raise ValueError(\"Close prices must be positive for log-return computation\")\n",
    "\n",
    "df[\"logret_1d\"] = np.log(df[\"close\"]).diff()\n",
    "\n",
    "# ---- 3) Zielvariable: Up/Down in HORIZON Schritten ----\n",
    "future_log = np.log(df[\"close\"]).shift(-HORIZON)\n",
    "curr_log   = np.log(df[\"close\"])\n",
    "y_return   = future_log - curr_log\n",
    "df[\"target\"] = (y_return > 0).astype(int)\n"
   ]
  },
  {
   "cell_type": "code",
   "execution_count": 135,
   "id": "074b0528-d853-4401-a903-7d339d44ec10",
   "metadata": {},
   "outputs": [],
   "source": [
    "# Aufräumen (erste diff-Zeile & letzte HORIZON-Zeilen)\n",
    "df_clean = df.dropna().copy()"
   ]
  },
  {
   "cell_type": "code",
   "execution_count": 136,
   "id": "cabbdc51-5669-4d3f-93c3-ce6345412e6d",
   "metadata": {},
   "outputs": [
    {
     "name": "stdout",
     "output_type": "stream",
     "text": [
      "Spalten: ['open', 'high', 'low', 'close', 'volume', 'logret_1d', 'target']\n",
      "Zeitraum: 2012-01-04 → 2025-08-29 | n = 3434\n",
      "\n",
      "Vorschau:\n",
      "                 close  logret_1d  target\n",
      "Date                                    \n",
      "2012-01-04  12.411520   0.005360       1\n",
      "2012-01-05  12.549309   0.011041       1\n",
      "2012-01-06  12.680497   0.010400       0\n",
      "2012-01-09  12.660383  -0.001587       1\n",
      "2012-01-10  12.705716   0.003574       0\n",
      "\n",
      "Klassenverteilung 0/1: {0: 1622, 1: 1812} | Anteil 1: 0.528\n"
     ]
    }
   ],
   "source": [
    "# ---- 4) Checks ----\n",
    "print(\"Spalten:\", df_clean.columns.tolist())\n",
    "print(\"Zeitraum:\", df_clean.index.min().date(), \"→\", df_clean.index.max().date(), \"| n =\", len(df_clean))\n",
    "\n",
    "print(\"\\nVorschau:\\n\", df_clean[[\"close\",\"logret_1d\",\"target\"]].head())\n",
    "\n",
    "vc = df_clean[\"target\"].value_counts().sort_index()\n",
    "print(\"\\nKlassenverteilung 0/1:\", vc.to_dict(), \"| Anteil 1:\", round(vc.get(1,0)/vc.sum(), 3))"
   ]
  },
  {
   "cell_type": "code",
   "execution_count": 137,
   "id": "0a4180ed-4cbc-4b79-9ef7-58ffcb2c5408",
   "metadata": {},
   "outputs": [
    {
     "name": "stdout",
     "output_type": "stream",
     "text": [
      "\n",
      "Horizon-Check: 2012-05-29 -> 2012-05-30\n",
      "close_i = 17.17961311340332  | close_j = 17.386751174926758\n",
      "target_i = 1\n"
     ]
    }
   ],
   "source": [
    "# Mini-Horizon-Demo\n",
    "i = df_clean.index[100]\n",
    "j = df_clean.index[df_clean.index.get_loc(i) + HORIZON]\n",
    "print(f\"\\nHorizon-Check: {i.date()} -> {j.date()}\")\n",
    "print(\"close_i =\", df.loc[i, \"close\"], \" | close_j =\", df.loc[j, \"close\"])\n",
    "print(\"target_i =\", int(df_clean.loc[i, \"target\"]))"
   ]
  },
  {
   "cell_type": "code",
   "execution_count": 138,
   "id": "44f491a2-e01e-42ab-b9b2-a76e93eaf1c0",
   "metadata": {},
   "outputs": [
    {
     "name": "stdout",
     "output_type": "stream",
     "text": [
      "\n",
      "Aufbereitete Datei gespeichert unter: ../data/AAPL_1d_2012-01-01_2025-09-01_cls_h1.csv\n"
     ]
    }
   ],
   "source": [
    "# ---- 5) Speichern für Block 3 ----\n",
    "csv_out = f\"../data/{TICKER}_{INTERVAL}_{START}_{END}_cls_h{HORIZON}.csv\"\n",
    "df_clean.to_csv(csv_out)\n",
    "print(\"\\nAufbereitete Datei gespeichert unter:\", csv_out)"
   ]
  },
  {
   "cell_type": "raw",
   "id": "38e6e618-9493-4ba6-a4a1-77bd39acb561",
   "metadata": {},
   "source": [
    "# Hinweis zur Leckage:\n",
    "# Wir haben target ausschließlich aus 'close' gebaut und für die Zukunft per .shift(-HORIZON)\n",
    "# versetzt. Features, die wir später bauen, dürfen ebenfalls nur Informationen bis t enthalten."
   ]
  },
  {
   "cell_type": "code",
   "execution_count": null,
   "id": "bc68e732-d642-4310-92e5-f551ae16c3d8",
   "metadata": {},
   "outputs": [],
   "source": []
  },
  {
   "cell_type": "code",
   "execution_count": null,
   "id": "7e805163-e2e6-4cd4-8a27-a99b43c22ead",
   "metadata": {},
   "outputs": [],
   "source": []
  }
 ],
 "metadata": {
  "kernelspec": {
   "display_name": "Python (finance-lstm)",
   "language": "python",
   "name": "finance-lstm"
  },
  "language_info": {
   "codemirror_mode": {
    "name": "ipython",
    "version": 3
   },
   "file_extension": ".py",
   "mimetype": "text/x-python",
   "name": "python",
   "nbconvert_exporter": "python",
   "pygments_lexer": "ipython3",
   "version": "3.10.11"
  }
 },
 "nbformat": 4,
 "nbformat_minor": 5
}
