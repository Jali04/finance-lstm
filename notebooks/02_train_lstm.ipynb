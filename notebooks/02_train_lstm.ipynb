{
 "cells": [
  {
   "cell_type": "code",
   "execution_count": 99,
   "id": "362a40d2-85eb-4eb7-9305-75a83695cb55",
   "metadata": {},
   "outputs": [
    {
     "name": "stdout",
     "output_type": "stream",
     "text": [
      "RUN_DIR: ..\\results\\2025-10-03_13-48-57_lstm\n"
     ]
    }
   ],
   "source": [
    "import os, sys, json, time\n",
    "from pathlib import Path\n",
    "import numpy as np\n",
    "import pandas as pd\n",
    "\n",
    "ROOT = os.path.abspath(\"..\")\n",
    "if ROOT not in sys.path:\n",
    "    sys.path.insert(0, ROOT)\n",
    "\n",
    "with open(os.path.join(ROOT, \"config.json\"), \"r\") as f:\n",
    "    C = json.load(f)\n",
    "\n",
    "TICKER   = C[\"ticker\"]; START = C[\"start\"]; END = C[\"end\"]; INTERVAL = C[\"interval\"]\n",
    "HORIZON  = int(C[\"horizon\"]); LOOKBACK = int(C[\"lookback\"])\n",
    "BATCH    = int(C[\"batch\"]);   EPOCHS   = int(C[\"epochs\"])\n",
    "SEED     = int(C.get(\"seed\", 42))\n",
    "\n",
    "RESULTS_DIR = Path(C.get(\"results_dir\", \"../results\"))\n",
    "RESULTS_DIR.mkdir(parents=True, exist_ok=True)\n",
    "RUN_DIR   = RESULTS_DIR / time.strftime(\"%Y-%m-%d_%H-%M-%S_lstm\")\n",
    "RUN_DIR.mkdir(parents=True, exist_ok=True)   # <- hinzufügen\n",
    "print(\"RUN_DIR:\", RUN_DIR)                   # optional\n",
    "\n",
    "TRAIN_CSV = f\"../data/{TICKER}_{INTERVAL}_{START}_{END}_cls_h{HORIZON}.csv\"\n",
    "\n",
    "import tensorflow as tf\n",
    "from tensorflow import keras\n",
    "from tensorflow.keras import layers\n",
    "from sklearn.preprocessing import StandardScaler\n",
    "from sklearn.metrics import classification_report, confusion_matrix, balanced_accuracy_score, matthews_corrcoef, average_precision_score\n",
    "import joblib\n",
    "\n",
    "np.random.seed(SEED)\n",
    "tf.random.set_seed(SEED)\n"
   ]
  },
  {
   "cell_type": "code",
   "execution_count": 100,
   "id": "44414e9d-0397-49fc-9c80-2841f2950d73",
   "metadata": {},
   "outputs": [],
   "source": [
    "df = pd.read_csv(TRAIN_CSV, index_col=0, parse_dates=[0]).sort_index()\n",
    "\n",
    "exp = {\"open\",\"high\",\"low\",\"close\",\"volume\",\"logret_1d\",\"target\"}\n",
    "missing = exp - set(df.columns)\n",
    "assert not missing, f\"Fehlende Spalten: {missing}\"\n",
    "assert not df.index.has_duplicates\n",
    "assert (df[\"close\"] > 0).all()\n",
    "assert df.notna().all().all()\n"
   ]
  },
  {
   "cell_type": "code",
   "execution_count": 101,
   "id": "07b91fc5-71ec-46b3-b625-f02038552a01",
   "metadata": {},
   "outputs": [
    {
     "name": "stdout",
     "output_type": "stream",
     "text": [
      "FEATURES (final): ['logret_1d', 'sma_diff']\n"
     ]
    }
   ],
   "source": [
    "# === 3) Features / Ziel wählen (stationär & robust) ===\n",
    "import os, yaml\n",
    "\n",
    "OHLCV = {\"open\",\"high\",\"low\",\"close\",\"volume\"}\n",
    "\n",
    "# Kandidaten aus DF (alles außer OHLCV + target)\n",
    "candidates_from_df = [c for c in df.columns if c not in OHLCV | {\"target\"}]\n",
    "\n",
    "# YAML laden (falls vorhanden) und schneiden\n",
    "features_yaml = \"../data/features_v1.yml\"\n",
    "yaml_feats = []\n",
    "if os.path.exists(features_yaml):\n",
    "    with open(features_yaml, \"r\") as f:\n",
    "        meta = yaml.safe_load(f) or {}\n",
    "    yaml_feats = list(meta.get(\"features\", []))\n",
    "\n",
    "# Level-Features blocken (driften stark)\n",
    "BLOCKED = {\"sma_10\", \"sma_20\"}\n",
    "\n",
    "# Priorität: YAML ∩ DF, danach DF-Fallback; anschließend Blockliste anwenden\n",
    "FEATURES = [c for c in (yaml_feats or candidates_from_df) if c in candidates_from_df and c not in BLOCKED]\n",
    "\n",
    "# Sicherheit: nur numerische Spalten\n",
    "FEATURES = [c for c in FEATURES if pd.api.types.is_numeric_dtype(df[c])]\n",
    "\n",
    "assert len(FEATURES) > 0, f\"Keine nutzbaren Features gefunden. Im CSV sind Kandidaten: {candidates_from_df}\"\n",
    "print(\"FEATURES (final):\", FEATURES)\n",
    "\n",
    "TARGET = \"target\"\n",
    "X = df[FEATURES].copy()\n",
    "y = df[TARGET].astype(int).copy()\n"
   ]
  },
  {
   "cell_type": "code",
   "execution_count": 102,
   "id": "af24474a-6165-44f4-9243-a688d6372c68",
   "metadata": {},
   "outputs": [
    {
     "name": "stdout",
     "output_type": "stream",
     "text": [
      "Split sizes → train 2381, val 510, test 511\n"
     ]
    }
   ],
   "source": [
    "# === 4) Chronologische Splits (70/15/15) ===\n",
    "n = len(df)\n",
    "n_train = int(n * 0.70)\n",
    "n_val   = int(n * 0.15)\n",
    "n_test  = n - n_train - n_val\n",
    "\n",
    "train_idx = slice(0, n_train)\n",
    "val_idx   = slice(n_train, n_train + n_val)\n",
    "test_idx  = slice(n_train + n_val, n)\n",
    "\n",
    "X_train, y_train = X.iloc[train_idx], y.iloc[train_idx]\n",
    "X_val,   y_val   = X.iloc[val_idx],   y.iloc[val_idx]\n",
    "X_test,  y_test  = X.iloc[test_idx],  y.iloc[test_idx]\n",
    "\n",
    "print(f\"Split sizes → train {len(X_train)}, val {len(X_val)}, test {len(X_test)}\")"
   ]
  },
  {
   "cell_type": "code",
   "execution_count": 103,
   "id": "5c6197b0-c082-48ba-9dd5-6de13a80ed3d",
   "metadata": {},
   "outputs": [
    {
     "name": "stdout",
     "output_type": "stream",
     "text": [
      "X_train shape/check: (2381, 2)  | cols: ['logret_1d', 'sma_diff']\n"
     ]
    }
   ],
   "source": [
    "print(\"X_train shape/check:\", X_train.shape, \" | cols:\", list(X_train.columns))\n"
   ]
  },
  {
   "cell_type": "code",
   "execution_count": 104,
   "id": "3e6af278-7df7-4bd2-beb7-ad8eea7e7bea",
   "metadata": {},
   "outputs": [
    {
     "data": {
      "text/plain": [
       "['..\\\\results\\\\2025-10-03_13-48-57_lstm\\\\scaler.joblib']"
      ]
     },
     "execution_count": 104,
     "metadata": {},
     "output_type": "execute_result"
    }
   ],
   "source": [
    "# === 5) Scaler nur auf TRAIN fitten ===\n",
    "scaler = StandardScaler(with_mean=True, with_std=True)\n",
    "X_train_s = pd.DataFrame(scaler.fit_transform(X_train), index=X_train.index, columns=FEATURES)\n",
    "X_val_s   = pd.DataFrame(scaler.transform(X_val),       index=X_val.index,   columns=FEATURES)\n",
    "X_test_s  = pd.DataFrame(scaler.transform(X_test),      index=X_test.index,  columns=FEATURES)\n",
    "\n",
    "# Scaler speichern (für spätere Runs/Inference)\n",
    "import joblib, io\n",
    "joblib.dump(scaler, RUN_DIR / \"scaler.joblib\")"
   ]
  },
  {
   "cell_type": "code",
   "execution_count": 105,
   "id": "2b8a3e5d-4afb-4c23-b4a0-af4234725c2f",
   "metadata": {},
   "outputs": [
    {
     "name": "stdout",
     "output_type": "stream",
     "text": [
      "     feature  mean_diff  std_ratio\n",
      "0  logret_1d  -0.021755   0.957276\n",
      "1   sma_diff  -0.125661   0.915388\n"
     ]
    }
   ],
   "source": [
    "def drift_summary(Xa: pd.DataFrame, Xb: pd.DataFrame):\n",
    "    out = []\n",
    "    for c in Xa.columns:\n",
    "        m1, s1 = Xa[c].mean(), Xa[c].std(ddof=1)\n",
    "        m2, s2 = Xb[c].mean(), Xb[c].std(ddof=1)\n",
    "        ratio_std = float((s2 + 1e-9) / (s1 + 1e-9))\n",
    "        diff_mean = float(m2 - m1)\n",
    "        out.append({\"feature\": c, \"mean_diff\": diff_mean, \"std_ratio\": ratio_std})\n",
    "    return pd.DataFrame(out).sort_values(\"std_ratio\", ascending=False)\n",
    "\n",
    "drift_df = drift_summary(X_train_s, X_test_s)\n",
    "drift_df.to_csv(RUN_DIR / \"drift_train_vs_test.csv\", index=False)\n",
    "print(drift_df.head())\n"
   ]
  },
  {
   "cell_type": "code",
   "execution_count": 106,
   "id": "0fd4bb55-1b73-42ce-8784-eb60d6b25384",
   "metadata": {},
   "outputs": [],
   "source": [
    "# Warn-/Abbruchschwellen gegen Train→Test-Shift\n",
    "bad = drift_df[(drift_df[\"std_ratio\"] < 0.85) | (drift_df[\"mean_diff\"].abs() > 1.0)]\n",
    "if not bad.empty:\n",
    "    print(\"\\n[WARN] Starker Feature-Shift erkannt:\\n\", bad)\n",
    "    # Optional hart abbrechen:\n",
    "    # raise RuntimeError(\"Zu starker Drift in obigen Features – bitte Feature-Set stationär halten.\")"
   ]
  },
  {
   "cell_type": "code",
   "execution_count": 107,
   "id": "de930d62-f80e-408a-9471-fcdbb3c2b9ef",
   "metadata": {},
   "outputs": [
    {
     "name": "stdout",
     "output_type": "stream",
     "text": [
      "Shapes: \n",
      "  train: (2322, 60, 2) (2322,) \n",
      "  val  : (451, 60, 2) (451,) \n",
      "  test : (452, 60, 2) (452,)\n"
     ]
    }
   ],
   "source": [
    "# === 6) Windowing: Sequenzen der Länge LOOKBACK → Label am Endzeitpunkt ===\n",
    "def make_windows(X_df: pd.DataFrame, y_ser: pd.Series, lookback: int):\n",
    "    X_values = X_df.values.astype(np.float32)\n",
    "    y_values = y_ser.values.astype(np.int32)\n",
    "    n = len(X_df)\n",
    "    xs, ys = [], []\n",
    "    for i in range(lookback-1, n):\n",
    "        xs.append(X_values[i - lookback + 1 : i + 1])  # inkl. i\n",
    "        ys.append(y_values[i])                          # Label für Zeitpunkt i (Up/Down für i->i+H)\n",
    "    return np.stack(xs, axis=0), np.array(ys)\n",
    "\n",
    "Xtr_win, ytr = make_windows(X_train_s, y_train, LOOKBACK)\n",
    "Xva_win, yva = make_windows(X_val_s,   y_val,   LOOKBACK)\n",
    "Xte_win, yte = make_windows(X_test_s,  y_test,  LOOKBACK)\n",
    "\n",
    "print(\"Shapes:\",\n",
    "      \"\\n  train:\", Xtr_win.shape, ytr.shape,\n",
    "      \"\\n  val  :\", Xva_win.shape, yva.shape,\n",
    "      \"\\n  test :\", Xte_win.shape, yte.shape)"
   ]
  },
  {
   "cell_type": "code",
   "execution_count": 108,
   "id": "212356d1-4801-4674-b38b-08bd67d9f0d5",
   "metadata": {},
   "outputs": [
    {
     "name": "stdout",
     "output_type": "stream",
     "text": [
      "class_weight: {0: 1.0554545454545454, 1: 0.9500818330605565}\n"
     ]
    }
   ],
   "source": [
    "# === class_weight (optional) aus Trainingslabels berechnen ===\n",
    "from collections import Counter\n",
    "cw = None\n",
    "counts = Counter(ytr.tolist())\n",
    "if len(counts) == 2:\n",
    "    total = sum(counts.values())\n",
    "    # einfache Invers-Häufigkeit (normalisiert), robust bei leichter Schieflage\n",
    "    cw = {0: total/(2*counts.get(0, 1)), 1: total/(2*counts.get(1, 1))}\n",
    "print(\"class_weight:\", cw)\n"
   ]
  },
  {
   "cell_type": "code",
   "execution_count": 109,
   "id": "a77b7452-9bcd-4b45-b92a-16a8e83f44ef",
   "metadata": {},
   "outputs": [],
   "source": [
    "# === 7) tf.data Pipelines ===\n",
    "def to_ds(X, y, batch, shuffle):\n",
    "    ds = tf.data.Dataset.from_tensor_slices((X, y))\n",
    "    if shuffle:\n",
    "        ds = ds.shuffle(buffer_size=len(X), seed=SEED, reshuffle_each_iteration=True)\n",
    "    return ds.batch(batch).prefetch(tf.data.AUTOTUNE)\n",
    "\n",
    "ds_train = to_ds(Xtr_win, ytr, BATCH, shuffle=True)\n",
    "ds_val   = to_ds(Xva_win, yva, BATCH, shuffle=False)\n",
    "ds_test  = to_ds(Xte_win, yte, BATCH, shuffle=False)"
   ]
  },
  {
   "cell_type": "code",
   "execution_count": 110,
   "id": "6e49b799-942e-4630-b9fd-bf30e257a4e1",
   "metadata": {},
   "outputs": [
    {
     "name": "stdout",
     "output_type": "stream",
     "text": [
      "pos_rate_train: 0.526\n"
     ]
    }
   ],
   "source": [
    "# Basis-Rate im Training (für Output-Bias)\n",
    "pos_rate_train = float(ytr.mean())\n",
    "from math import log\n",
    "def _logit(p): \n",
    "    eps = 1e-6\n",
    "    p = min(max(p, eps), 1-eps)\n",
    "    return log(p/(1-p))\n",
    "output_bias_init = tf.keras.initializers.Constant(_logit(pos_rate_train))\n",
    "print(\"pos_rate_train:\", round(pos_rate_train,3))\n"
   ]
  },
  {
   "cell_type": "code",
   "execution_count": 111,
   "id": "da31a17d-1e28-458b-b4d5-886358ccd96c",
   "metadata": {},
   "outputs": [
    {
     "name": "stdout",
     "output_type": "stream",
     "text": [
      "[Diag] y_proba range: 0.263 .. 0.613, mean=0.512\n",
      "LogReg AUROC: 0.482\n",
      "LogReg MCC@0.5: -0.018\n"
     ]
    }
   ],
   "source": [
    "from sklearn.linear_model import LogisticRegression\n",
    "from sklearn.metrics import roc_auc_score, matthews_corrcoef\n",
    "\n",
    "logit = LogisticRegression(max_iter=200, n_jobs=None)\n",
    "logit.fit(X_train_s.iloc[LOOKBACK-1:], y_train.iloc[LOOKBACK-1:])  # grob: letztes Fensterende\n",
    "y_proba_lr = logit.predict_proba(X_test_s.iloc[LOOKBACK-1:])[:,1]\n",
    "print(f\"[Diag] y_proba range: {y_proba.min():.3f} .. {y_proba.max():.3f}, mean={y_proba.mean():.3f}\")\n",
    "print(\"LogReg AUROC:\", round(roc_auc_score(y_test.iloc[LOOKBACK-1:], y_proba_lr), 3))\n",
    "print(\"LogReg MCC@0.5:\", round(matthews_corrcoef(y_test.iloc[LOOKBACK-1:], (y_proba_lr>=0.5).astype(int)), 3))\n"
   ]
  },
  {
   "cell_type": "code",
   "execution_count": 112,
   "id": "76d25d1b-8215-40c9-9b57-e469739b9fe8",
   "metadata": {},
   "outputs": [],
   "source": [
    "# === Modell: GRU + Regularisierung ============================================\n",
    "from tensorflow import keras\n",
    "from tensorflow.keras import layers, regularizers\n",
    "\n",
    "USE_FOCAL = bool(C.get(\"use_focal\", True))\n",
    "GAMMA     = float(C.get(\"focal_gamma\", 1.5))\n",
    "ALPHA     = float(C.get(\"focal_alpha\", 0.5))\n",
    "\n",
    "def focal_loss(gamma=2.0, alpha=0.25):\n",
    "    def _loss(y_true, y_pred):\n",
    "        y_true = tf.cast(y_true, tf.float32)\n",
    "        eps = 1e-7\n",
    "        y_pred = tf.clip_by_value(y_pred, eps, 1-eps)\n",
    "        pt = tf.where(tf.equal(y_true, 1), y_pred, 1-y_pred)\n",
    "        w  = tf.where(tf.equal(y_true, 1), alpha, 1-alpha)\n",
    "        return -tf.reduce_mean(w * tf.pow(1.0-pt, gamma) * tf.math.log(pt))\n",
    "    return _loss\n",
    "\n",
    "n_features = Xtr_win.shape[-1]\n",
    "\n",
    "model = keras.Sequential([\n",
    "    layers.Input(shape=(LOOKBACK, n_features)),\n",
    "    layers.GRU(64, return_sequences=True, recurrent_dropout=0.10),\n",
    "    layers.LayerNormalization(),\n",
    "    layers.GRU(32, recurrent_dropout=0.10),\n",
    "    layers.LayerNormalization(),\n",
    "    layers.Dense(16, activation=\"relu\", kernel_regularizer=regularizers.l2(1e-5)),\n",
    "    layers.Dense(1, activation=\"sigmoid\", bias_initializer=output_bias_init),\n",
    "])\n",
    "\n",
    "model.compile(\n",
    "    optimizer=keras.optimizers.Adam(learning_rate=5e-4),\n",
    "    loss=focal_loss(GAMMA, ALPHA) if USE_FOCAL else keras.losses.BinaryCrossentropy(),\n",
    "    metrics=[\n",
    "        keras.metrics.AUC(name=\"auc\"),\n",
    "        keras.metrics.AUC(name=\"auprc\", curve=\"PR\"),\n",
    "        keras.metrics.BinaryAccuracy(name=\"acc\"),\n",
    "        keras.metrics.Precision(name=\"prec\"),\n",
    "        keras.metrics.Recall(name=\"rec\"),\n",
    "    ],\n",
    ")"
   ]
  },
  {
   "cell_type": "code",
   "execution_count": 113,
   "id": "400bb060-c145-413b-a38e-9c4221173f87",
   "metadata": {},
   "outputs": [],
   "source": [
    "ckpt_path = RUN_DIR / \"best.keras\"\n",
    "callbacks = [\n",
    "    keras.callbacks.ModelCheckpoint(\n",
    "        filepath=str(ckpt_path),\n",
    "        monitor=\"val_auprc\", mode=\"max\", save_best_only=True, verbose=1),\n",
    "    keras.callbacks.EarlyStopping(\n",
    "        monitor=\"val_auprc\", mode=\"max\", patience=12, restore_best_weights=True),\n",
    "    keras.callbacks.ReduceLROnPlateau(\n",
    "        monitor=\"val_auprc\", mode=\"max\", factor=0.5, patience=6, min_lr=1e-5, verbose=1),\n",
    "]\n"
   ]
  },
  {
   "cell_type": "code",
   "execution_count": 114,
   "id": "b9ee003a-f770-44c4-8444-4b8096ee3434",
   "metadata": {},
   "outputs": [
    {
     "name": "stdout",
     "output_type": "stream",
     "text": [
      "Epoch 1/100\n",
      "\u001b[1m34/37\u001b[0m \u001b[32m━━━━━━━━━━━━━━━━━━\u001b[0m\u001b[37m━━\u001b[0m \u001b[1m0s\u001b[0m 13ms/step - acc: 0.5323 - auc: 0.5153 - auprc: 0.5349 - loss: 0.1647 - prec: 0.5479 - rec: 0.7080\n",
      "Epoch 1: val_auprc improved from None to 0.51487, saving model to ..\\results\\2025-10-03_13-48-57_lstm\\best.keras\n",
      "\u001b[1m37/37\u001b[0m \u001b[32m━━━━━━━━━━━━━━━━━━━━\u001b[0m\u001b[37m\u001b[0m \u001b[1m3s\u001b[0m 24ms/step - acc: 0.5211 - auc: 0.5143 - auprc: 0.5323 - loss: 0.1409 - prec: 0.5370 - rec: 0.6530 - val_acc: 0.4878 - val_auc: 0.5001 - val_auprc: 0.5149 - val_loss: 0.1278 - val_prec: 0.4906 - val_rec: 0.3421 - learning_rate: 5.0000e-04\n",
      "Epoch 2/100\n",
      "\u001b[1m36/37\u001b[0m \u001b[32m━━━━━━━━━━━━━━━━━━━\u001b[0m\u001b[37m━\u001b[0m \u001b[1m0s\u001b[0m 13ms/step - acc: 0.5058 - auc: 0.4989 - auprc: 0.5226 - loss: 0.1297 - prec: 0.5284 - rec: 0.5827\n",
      "Epoch 2: val_auprc improved from 0.51487 to 0.54146, saving model to ..\\results\\2025-10-03_13-48-57_lstm\\best.keras\n",
      "\u001b[1m37/37\u001b[0m \u001b[32m━━━━━━━━━━━━━━━━━━━━\u001b[0m\u001b[37m\u001b[0m \u001b[1m1s\u001b[0m 15ms/step - acc: 0.5052 - auc: 0.5023 - auprc: 0.5272 - loss: 0.1283 - prec: 0.5264 - rec: 0.5949 - val_acc: 0.4900 - val_auc: 0.5055 - val_auprc: 0.5415 - val_loss: 0.1249 - val_prec: 0.4970 - val_rec: 0.7237 - learning_rate: 5.0000e-04\n",
      "Epoch 3/100\n",
      "\u001b[1m36/37\u001b[0m \u001b[32m━━━━━━━━━━━━━━━━━━━\u001b[0m\u001b[37m━\u001b[0m \u001b[1m0s\u001b[0m 13ms/step - acc: 0.5321 - auc: 0.5413 - auprc: 0.5593 - loss: 0.1241 - prec: 0.5373 - rec: 0.7207\n",
      "Epoch 3: val_auprc did not improve from 0.54146\n",
      "\u001b[1m37/37\u001b[0m \u001b[32m━━━━━━━━━━━━━━━━━━━━\u001b[0m\u001b[37m\u001b[0m \u001b[1m1s\u001b[0m 14ms/step - acc: 0.5314 - auc: 0.5308 - auprc: 0.5538 - loss: 0.1246 - prec: 0.5420 - rec: 0.7070 - val_acc: 0.4922 - val_auc: 0.4922 - val_auprc: 0.5205 - val_loss: 0.1247 - val_prec: 0.4986 - val_rec: 0.7982 - learning_rate: 5.0000e-04\n",
      "Epoch 4/100\n",
      "\u001b[1m37/37\u001b[0m \u001b[32m━━━━━━━━━━━━━━━━━━━━\u001b[0m\u001b[37m\u001b[0m \u001b[1m0s\u001b[0m 13ms/step - acc: 0.5261 - auc: 0.5355 - auprc: 0.5508 - loss: 0.1241 - prec: 0.5368 - rec: 0.7126\n",
      "Epoch 4: val_auprc did not improve from 0.54146\n",
      "\u001b[1m37/37\u001b[0m \u001b[32m━━━━━━━━━━━━━━━━━━━━\u001b[0m\u001b[37m\u001b[0m \u001b[1m1s\u001b[0m 14ms/step - acc: 0.5323 - auc: 0.5371 - auprc: 0.5523 - loss: 0.1242 - prec: 0.5447 - rec: 0.6776 - val_acc: 0.5078 - val_auc: 0.5100 - val_auprc: 0.5305 - val_loss: 0.1294 - val_prec: 0.5071 - val_rec: 0.9430 - learning_rate: 5.0000e-04\n",
      "Epoch 5/100\n",
      "\u001b[1m33/37\u001b[0m \u001b[32m━━━━━━━━━━━━━━━━━\u001b[0m\u001b[37m━━━\u001b[0m \u001b[1m0s\u001b[0m 13ms/step - acc: 0.5321 - auc: 0.5208 - auprc: 0.5140 - loss: 0.1292 - prec: 0.5309 - rec: 0.7678\n",
      "Epoch 5: val_auprc did not improve from 0.54146\n",
      "\u001b[1m37/37\u001b[0m \u001b[32m━━━━━━━━━━━━━━━━━━━━\u001b[0m\u001b[37m\u001b[0m \u001b[1m1s\u001b[0m 15ms/step - acc: 0.5413 - auc: 0.5332 - auprc: 0.5398 - loss: 0.1255 - prec: 0.5496 - rec: 0.7119 - val_acc: 0.5033 - val_auc: 0.5059 - val_auprc: 0.5130 - val_loss: 0.1261 - val_prec: 0.5066 - val_rec: 0.6754 - learning_rate: 5.0000e-04\n",
      "Epoch 6/100\n",
      "\u001b[1m37/37\u001b[0m \u001b[32m━━━━━━━━━━━━━━━━━━━━\u001b[0m\u001b[37m\u001b[0m \u001b[1m0s\u001b[0m 13ms/step - acc: 0.5352 - auc: 0.5549 - auprc: 0.5526 - loss: 0.1237 - prec: 0.5384 - rec: 0.7029\n",
      "Epoch 6: val_auprc did not improve from 0.54146\n",
      "\u001b[1m37/37\u001b[0m \u001b[32m━━━━━━━━━━━━━━━━━━━━\u001b[0m\u001b[37m\u001b[0m \u001b[1m1s\u001b[0m 14ms/step - acc: 0.5336 - auc: 0.5444 - auprc: 0.5586 - loss: 0.1239 - prec: 0.5470 - rec: 0.6620 - val_acc: 0.5011 - val_auc: 0.4963 - val_auprc: 0.5116 - val_loss: 0.1274 - val_prec: 0.5035 - val_rec: 0.9518 - learning_rate: 5.0000e-04\n",
      "Epoch 7/100\n",
      "\u001b[1m33/37\u001b[0m \u001b[32m━━━━━━━━━━━━━━━━━\u001b[0m\u001b[37m━━━\u001b[0m \u001b[1m0s\u001b[0m 13ms/step - acc: 0.5441 - auc: 0.5557 - auprc: 0.5478 - loss: 0.1234 - prec: 0.5425 - rec: 0.7392\n",
      "Epoch 7: val_auprc did not improve from 0.54146\n",
      "\u001b[1m37/37\u001b[0m \u001b[32m━━━━━━━━━━━━━━━━━━━━\u001b[0m\u001b[37m\u001b[0m \u001b[1m1s\u001b[0m 14ms/step - acc: 0.5413 - auc: 0.5558 - auprc: 0.5615 - loss: 0.1224 - prec: 0.5505 - rec: 0.7005 - val_acc: 0.5122 - val_auc: 0.4916 - val_auprc: 0.5066 - val_loss: 0.1248 - val_prec: 0.5126 - val_rec: 0.7149 - learning_rate: 5.0000e-04\n",
      "Epoch 8/100\n",
      "\u001b[1m33/37\u001b[0m \u001b[32m━━━━━━━━━━━━━━━━━\u001b[0m\u001b[37m━━━\u001b[0m \u001b[1m0s\u001b[0m 13ms/step - acc: 0.5634 - auc: 0.5661 - auprc: 0.5510 - loss: 0.1229 - prec: 0.5594 - rec: 0.6455\n",
      "Epoch 8: val_auprc did not improve from 0.54146\n",
      "\n",
      "Epoch 8: ReduceLROnPlateau reducing learning rate to 0.0002500000118743628.\n",
      "\u001b[1m37/37\u001b[0m \u001b[32m━━━━━━━━━━━━━━━━━━━━\u001b[0m\u001b[37m\u001b[0m \u001b[1m1s\u001b[0m 14ms/step - acc: 0.5495 - auc: 0.5539 - auprc: 0.5697 - loss: 0.1230 - prec: 0.5608 - rec: 0.6645 - val_acc: 0.5033 - val_auc: 0.5041 - val_auprc: 0.5249 - val_loss: 0.1284 - val_prec: 0.5048 - val_rec: 0.9211 - learning_rate: 5.0000e-04\n",
      "Epoch 9/100\n",
      "\u001b[1m35/37\u001b[0m \u001b[32m━━━━━━━━━━━━━━━━━━\u001b[0m\u001b[37m━━\u001b[0m \u001b[1m0s\u001b[0m 14ms/step - acc: 0.5310 - auc: 0.5494 - auprc: 0.5535 - loss: 0.1237 - prec: 0.5306 - rec: 0.8094\n",
      "Epoch 9: val_auprc did not improve from 0.54146\n",
      "\u001b[1m37/37\u001b[0m \u001b[32m━━━━━━━━━━━━━━━━━━━━\u001b[0m\u001b[37m\u001b[0m \u001b[1m1s\u001b[0m 15ms/step - acc: 0.5487 - auc: 0.5634 - auprc: 0.5724 - loss: 0.1217 - prec: 0.5517 - rec: 0.7594 - val_acc: 0.5033 - val_auc: 0.4875 - val_auprc: 0.5203 - val_loss: 0.1243 - val_prec: 0.5054 - val_rec: 0.8246 - learning_rate: 2.5000e-04\n",
      "Epoch 10/100\n",
      "\u001b[1m35/37\u001b[0m \u001b[32m━━━━━━━━━━━━━━━━━━\u001b[0m\u001b[37m━━\u001b[0m \u001b[1m0s\u001b[0m 13ms/step - acc: 0.5425 - auc: 0.5672 - auprc: 0.5856 - loss: 0.1214 - prec: 0.5420 - rec: 0.7785\n",
      "Epoch 10: val_auprc did not improve from 0.54146\n",
      "\u001b[1m37/37\u001b[0m \u001b[32m━━━━━━━━━━━━━━━━━━━━\u001b[0m\u001b[37m\u001b[0m \u001b[1m1s\u001b[0m 14ms/step - acc: 0.5624 - auc: 0.5829 - auprc: 0.5999 - loss: 0.1206 - prec: 0.5621 - rec: 0.7627 - val_acc: 0.4856 - val_auc: 0.4780 - val_auprc: 0.5058 - val_loss: 0.1250 - val_prec: 0.4936 - val_rec: 0.6798 - learning_rate: 2.5000e-04\n",
      "Epoch 11/100\n",
      "\u001b[1m34/37\u001b[0m \u001b[32m━━━━━━━━━━━━━━━━━━\u001b[0m\u001b[37m━━\u001b[0m \u001b[1m0s\u001b[0m 13ms/step - acc: 0.5723 - auc: 0.6011 - auprc: 0.6177 - loss: 0.1195 - prec: 0.5705 - rec: 0.7223\n",
      "Epoch 11: val_auprc did not improve from 0.54146\n",
      "\u001b[1m37/37\u001b[0m \u001b[32m━━━━━━━━━━━━━━━━━━━━\u001b[0m\u001b[37m\u001b[0m \u001b[1m1s\u001b[0m 14ms/step - acc: 0.5814 - auc: 0.5931 - auprc: 0.5980 - loss: 0.1202 - prec: 0.5807 - rec: 0.7357 - val_acc: 0.5033 - val_auc: 0.4714 - val_auprc: 0.5051 - val_loss: 0.1259 - val_prec: 0.5053 - val_rec: 0.8289 - learning_rate: 2.5000e-04\n",
      "Epoch 12/100\n",
      "\u001b[1m36/37\u001b[0m \u001b[32m━━━━━━━━━━━━━━━━━━━\u001b[0m\u001b[37m━\u001b[0m \u001b[1m0s\u001b[0m 13ms/step - acc: 0.5836 - auc: 0.5931 - auprc: 0.6227 - loss: 0.1195 - prec: 0.5948 - rec: 0.7691\n",
      "Epoch 12: val_auprc did not improve from 0.54146\n",
      "\u001b[1m37/37\u001b[0m \u001b[32m━━━━━━━━━━━━━━━━━━━━\u001b[0m\u001b[37m\u001b[0m \u001b[1m1s\u001b[0m 14ms/step - acc: 0.5672 - auc: 0.5873 - auprc: 0.5930 - loss: 0.1206 - prec: 0.5669 - rec: 0.7529 - val_acc: 0.4634 - val_auc: 0.4667 - val_auprc: 0.5010 - val_loss: 0.1250 - val_prec: 0.4735 - val_rec: 0.5482 - learning_rate: 2.5000e-04\n",
      "Epoch 13/100\n",
      "\u001b[1m37/37\u001b[0m \u001b[32m━━━━━━━━━━━━━━━━━━━━\u001b[0m\u001b[37m\u001b[0m \u001b[1m0s\u001b[0m 13ms/step - acc: 0.5577 - auc: 0.5943 - auprc: 0.6019 - loss: 0.1207 - prec: 0.5711 - rec: 0.5745\n",
      "Epoch 13: val_auprc did not improve from 0.54146\n",
      "\u001b[1m37/37\u001b[0m \u001b[32m━━━━━━━━━━━━━━━━━━━━\u001b[0m\u001b[37m\u001b[0m \u001b[1m1s\u001b[0m 14ms/step - acc: 0.5616 - auc: 0.5899 - auprc: 0.5997 - loss: 0.1205 - prec: 0.5732 - rec: 0.6538 - val_acc: 0.5011 - val_auc: 0.4800 - val_auprc: 0.5131 - val_loss: 0.1245 - val_prec: 0.5044 - val_rec: 0.7500 - learning_rate: 2.5000e-04\n",
      "Epoch 14/100\n",
      "\u001b[1m34/37\u001b[0m \u001b[32m━━━━━━━━━━━━━━━━━━\u001b[0m\u001b[37m━━\u001b[0m \u001b[1m0s\u001b[0m 13ms/step - acc: 0.5911 - auc: 0.5989 - auprc: 0.5981 - loss: 0.1193 - prec: 0.5825 - rec: 0.7714\n",
      "Epoch 14: val_auprc did not improve from 0.54146\n",
      "\n",
      "Epoch 14: ReduceLROnPlateau reducing learning rate to 0.0001250000059371814.\n",
      "\u001b[1m37/37\u001b[0m \u001b[32m━━━━━━━━━━━━━━━━━━━━\u001b[0m\u001b[37m\u001b[0m \u001b[1m1s\u001b[0m 14ms/step - acc: 0.5732 - auc: 0.5843 - auprc: 0.5912 - loss: 0.1204 - prec: 0.5711 - rec: 0.7594 - val_acc: 0.4856 - val_auc: 0.4747 - val_auprc: 0.5043 - val_loss: 0.1248 - val_prec: 0.4937 - val_rec: 0.6886 - learning_rate: 2.5000e-04\n"
     ]
    }
   ],
   "source": [
    "history = model.fit(\n",
    "    ds_train, validation_data=ds_val, epochs=EPOCHS,\n",
    "    callbacks=callbacks, verbose=1, class_weight=cw\n",
    ")\n",
    "\n",
    "# Trainingskurve speichern\n",
    "pd.DataFrame(history.history).to_csv(RUN_DIR / \"history.csv\", index=False)"
   ]
  },
  {
   "cell_type": "code",
   "execution_count": 115,
   "id": "c53ab91e-8441-47ad-9232-7d6146316881",
   "metadata": {},
   "outputs": [],
   "source": [
    "# env-info sauber mitschreiben\n",
    "env_info = {\n",
    "    \"python\": sys.version, \"tensorflow\": tf.__version__,\n",
    "    \"numpy\": np.__version__, \"pandas\": pd.__version__,\n",
    "    \"seed\": SEED, \"lookback\": LOOKBACK, \"features\": FEATURES,\n",
    "    \"batch\": BATCH, \"epochs\": EPOCHS, \"optimizer\": \"Adam(5e-4)\",\n",
    "    \"loss\": \"Focal\" if USE_FOCAL else \"BCE\",\n",
    "    \"metrics\": [\"acc\",\"auc\",\"auprc\",\"prec\",\"rec\"],\n",
    "}\n",
    "with open(RUN_DIR / \"env_info.json\", \"w\") as f: json.dump(env_info, f, indent=2)\n",
    "np.save(RUN_DIR / \"scaler_mean.npy\", scaler.mean_)\n",
    "np.save(RUN_DIR / \"scaler_scale.npy\", scaler.scale_)"
   ]
  },
  {
   "cell_type": "code",
   "execution_count": 116,
   "id": "2a055b6c-b605-4dd4-b1c9-060d2d961ad4",
   "metadata": {},
   "outputs": [
    {
     "name": "stdout",
     "output_type": "stream",
     "text": [
      "Test metrics: {\n",
      "  \"acc\": 0.5442478060722351,\n",
      "  \"auc\": 0.5026698112487793,\n",
      "  \"auprc\": 0.548076868057251,\n",
      "  \"loss\": 0.12539570033550262,\n",
      "  \"prec\": 0.555232584476471,\n",
      "  \"rec\": 0.7827869057655334\n",
      "}\n",
      "\n",
      "Confusion matrix (test):\n",
      " [[ 55 153]\n",
      " [ 53 191]]\n",
      "\n",
      "Classification report (test):\n",
      "               precision    recall  f1-score   support\n",
      "\n",
      "           0      0.509     0.264     0.348       208\n",
      "           1      0.555     0.783     0.650       244\n",
      "\n",
      "    accuracy                          0.544       452\n",
      "   macro avg      0.532     0.524     0.499       452\n",
      "weighted avg      0.534     0.544     0.511       452\n",
      "\n"
     ]
    }
   ],
   "source": [
    "# === 11) Evaluate & Berichte ===\n",
    "# Best Weights sind dank EarlyStopping bereits geladen\n",
    "test_metrics = model.evaluate(ds_test, return_dict=True, verbose=0)\n",
    "print(\"Test metrics:\", json.dumps(test_metrics, indent=2))\n",
    "\n",
    "# Schwellenwert 0.5 (später kalibrierbar)\n",
    "y_proba = model.predict(ds_test, verbose=0).ravel()\n",
    "y_pred  = (y_proba >= 0.5).astype(int)\n",
    "\n",
    "print(\"\\nConfusion matrix (test):\\n\", confusion_matrix(yte, y_pred))\n",
    "print(\"\\nClassification report (test):\\n\", classification_report(yte, y_pred, digits=3))"
   ]
  },
  {
   "cell_type": "code",
   "execution_count": 117,
   "id": "7f537297-0c99-490a-8713-acb51b6620fc",
   "metadata": {},
   "outputs": [
    {
     "name": "stdout",
     "output_type": "stream",
     "text": [
      "\n",
      "[Block3 quick] thr(val@maxMCC)=0.521 | AUROC val/test=0.507/0.503\n",
      "CM(test@thr):\n",
      " [[100 108]\n",
      " [118 126]]\n",
      "              precision    recall  f1-score   support\n",
      "\n",
      "           0      0.459     0.481     0.469       208\n",
      "           1      0.538     0.516     0.527       244\n",
      "\n",
      "    accuracy                          0.500       452\n",
      "   macro avg      0.499     0.499     0.498       452\n",
      "weighted avg      0.502     0.500     0.501       452\n",
      "\n"
     ]
    }
   ],
   "source": [
    "# Val-basierte Schwelle (max MCC, Korridor) direkt in Block 3\n",
    "from sklearn.metrics import matthews_corrcoef, roc_auc_score\n",
    "import numpy as np\n",
    "\n",
    "val_proba = model.predict(ds_val, verbose=0).ravel()\n",
    "\n",
    "def choose_threshold(y_true, y_prob, bounds=(0.2, 0.8)):\n",
    "    uniq = np.unique(y_prob); cand = np.r_[0.0, uniq, 1.0]\n",
    "    best_t, best_s = 0.5, -1\n",
    "    for t in cand:\n",
    "        yp = (y_prob >= t).astype(int)\n",
    "        pr = yp.mean()\n",
    "        if not (bounds[0] <= pr <= bounds[1]): \n",
    "            continue\n",
    "        s = matthews_corrcoef(y_true, yp)\n",
    "        if s > best_s: best_s, best_t = s, float(t)\n",
    "    return best_t\n",
    "\n",
    "thr = choose_threshold(yva, val_proba, bounds=(0.2,0.8))\n",
    "y_pred_thr = (y_proba >= thr).astype(int)\n",
    "\n",
    "print(f\"\\n[Block3 quick] thr(val@maxMCC)={thr:.3f} | AUROC val/test={roc_auc_score(yva, val_proba):.3f}/{roc_auc_score(yte, y_proba):.3f}\")\n",
    "print(\"CM(test@thr):\\n\", confusion_matrix(yte, y_pred_thr))\n",
    "print(classification_report(yte, y_pred_thr, digits=3))\n"
   ]
  },
  {
   "cell_type": "code",
   "execution_count": 118,
   "id": "95bc992f-6ae8-43b7-bda5-4138cfa99a2c",
   "metadata": {},
   "outputs": [
    {
     "name": "stdout",
     "output_type": "stream",
     "text": [
      "Proba stats  (test): min= 0.2409822791814804 max= 0.646703839302063 mean= 0.5228776931762695\n",
      "AUROC val/test: 0.507 / 0.503\n"
     ]
    }
   ],
   "source": [
    "# --- Diagnose der Probabilitäten ---\n",
    "import numpy as np\n",
    "from sklearn.metrics import roc_auc_score\n",
    "\n",
    "print(\"Proba stats  (test): min=\", float(y_proba.min()), \n",
    "      \"max=\", float(y_proba.max()), \"mean=\", float(y_proba.mean()))\n",
    "\n",
    "# AUC auf VAL & TEST (Ranking-Qualität, unabhängig vom Threshold)\n",
    "val_proba = model.predict(ds_val, verbose=0).ravel()\n",
    "print(\"AUROC val/test:\", \n",
    "      round(roc_auc_score(yva, val_proba), 3), \"/\", \n",
    "      round(roc_auc_score(yte, y_proba), 3))\n",
    "\n",
    "# Quick check: Ist das Signal invertiert?\n",
    "if roc_auc_score(yva, val_proba) < 0.5:\n",
    "    print(\"⚠️ AUROC < 0.5 auf VAL → Versuch: invertiere Scores (1-p)\")\n",
    "    y_proba_inverted = 1.0 - y_proba\n",
    "    from sklearn.metrics import classification_report, confusion_matrix\n",
    "    y_pred_inv = (y_proba_inverted >= 0.5).astype(int)\n",
    "    print(\"Confusion (inv, thr=0.5):\\n\", confusion_matrix(yte, y_pred_inv))\n",
    "    print(\"Report (inv):\\n\", classification_report(yte, y_pred_inv, digits=3))\n"
   ]
  },
  {
   "cell_type": "code",
   "execution_count": 119,
   "id": "40b21880-6972-4be7-8000-3fe244cd2538",
   "metadata": {},
   "outputs": [
    {
     "name": "stdout",
     "output_type": "stream",
     "text": [
      "Extra test metrics: {\n",
      "  \"balanced_accuracy\": 0.5236049810844893,\n",
      "  \"mcc\": 0.05517840392405117,\n",
      "  \"auprc\": 0.5503723401714022\n",
      "}\n"
     ]
    }
   ],
   "source": [
    "# === Extra Test-Metriken ===\n",
    "bal_acc = balanced_accuracy_score(yte, y_pred)\n",
    "mcc = matthews_corrcoef(yte, y_pred)\n",
    "auprc_test = average_precision_score(yte, y_proba)  # probabilistische PR-Qualität\n",
    "\n",
    "extra = {\n",
    "    \"balanced_accuracy\": float(bal_acc),\n",
    "    \"mcc\": float(mcc),\n",
    "    \"auprc\": float(auprc_test)\n",
    "}\n",
    "print(\"Extra test metrics:\", json.dumps(extra, indent=2))\n",
    "\n",
    "# persistieren\n",
    "with open(RUN_DIR / \"extra_test_metrics.json\", \"w\") as f:\n",
    "    json.dump(extra, f, indent=2)\n"
   ]
  },
  {
   "cell_type": "code",
   "execution_count": 120,
   "id": "978a8ca1-2094-4e71-bce5-33df526f1e58",
   "metadata": {},
   "outputs": [
    {
     "name": "stdout",
     "output_type": "stream",
     "text": [
      "\n",
      "Artefakte gespeichert in: ..\\results\\2025-10-03_13-48-57_lstm\n"
     ]
    }
   ],
   "source": [
    "# === 12) Artefakte sichern ===\n",
    "# Keras-Format (SavedModel) + Gewichte\n",
    "model.save(RUN_DIR / \"model.keras\")\n",
    "np.save(RUN_DIR / \"y_test.npy\", yte)\n",
    "np.save(RUN_DIR / \"y_proba.npy\", y_proba)\n",
    "with open(RUN_DIR / \"config.json\", \"w\") as f:\n",
    "    json.dump({\n",
    "        \"ticker\": TICKER, \"start\": START, \"end\": END, \"interval\": INTERVAL,\n",
    "        \"horizon\": HORIZON, \"lookback\": LOOKBACK, \"features\": FEATURES,\n",
    "        \"scaler\": \"StandardScaler\", \"seed\": SEED, \"batch\": BATCH, \"epochs\": EPOCHS\n",
    "    }, f, indent=2)\n",
    "print(f\"\\nArtefakte gespeichert in: {RUN_DIR}\")"
   ]
  },
  {
   "cell_type": "code",
   "execution_count": null,
   "id": "5c21f136-1586-402a-b44a-e1275cce874a",
   "metadata": {},
   "outputs": [],
   "source": []
  },
  {
   "cell_type": "code",
   "execution_count": null,
   "id": "c074624e-6803-4ed3-bae4-4e2b9ca3dbaa",
   "metadata": {},
   "outputs": [],
   "source": []
  }
 ],
 "metadata": {
  "kernelspec": {
   "display_name": "Python (finance-lstm)",
   "language": "python",
   "name": "finance-lstm"
  },
  "language_info": {
   "codemirror_mode": {
    "name": "ipython",
    "version": 3
   },
   "file_extension": ".py",
   "mimetype": "text/x-python",
   "name": "python",
   "nbconvert_exporter": "python",
   "pygments_lexer": "ipython3",
   "version": "3.10.11"
  }
 },
 "nbformat": 4,
 "nbformat_minor": 5
}
