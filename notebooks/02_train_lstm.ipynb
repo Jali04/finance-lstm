{
 "cells": [
  {
   "cell_type": "code",
   "execution_count": 59,
   "id": "362a40d2-85eb-4eb7-9305-75a83695cb55",
   "metadata": {},
   "outputs": [
    {
     "name": "stdout",
     "output_type": "stream",
     "text": [
      "RUN_DIR: ..\\results\\2025-10-06_15-05-18_lstm\n"
     ]
    }
   ],
   "source": [
    "import os, sys, json, time\n",
    "from pathlib import Path\n",
    "import numpy as np\n",
    "import pandas as pd\n",
    "\n",
    "ROOT = os.path.abspath(\"..\")\n",
    "if ROOT not in sys.path:\n",
    "    sys.path.insert(0, ROOT)\n",
    "\n",
    "with open(os.path.join(ROOT, \"config.json\"), \"r\") as f:\n",
    "    C = json.load(f)\n",
    "\n",
    "TICKER   = C[\"ticker\"]; START = C[\"start\"]; END = C[\"end\"]; INTERVAL = C[\"interval\"]\n",
    "HORIZON  = int(C[\"horizon\"]); LOOKBACK = int(C[\"lookback\"])\n",
    "BATCH    = int(C[\"batch\"]);   EPOCHS   = int(C[\"epochs\"])\n",
    "SEED     = int(C.get(\"seed\", 42))\n",
    "\n",
    "RESULTS_DIR = Path(C.get(\"results_dir\", \"../results\"))\n",
    "RESULTS_DIR.mkdir(parents=True, exist_ok=True)\n",
    "RUN_DIR   = RESULTS_DIR / time.strftime(\"%Y-%m-%d_%H-%M-%S_lstm\")\n",
    "RUN_DIR.mkdir(parents=True, exist_ok=True)   # <- hinzufügen\n",
    "print(\"RUN_DIR:\", RUN_DIR)                   # optional\n",
    "\n",
    "TRAIN_CSV = f\"../data/{TICKER}_{INTERVAL}_{START}_{END}_cls_h{HORIZON}.csv\"\n",
    "\n",
    "import tensorflow as tf\n",
    "from tensorflow import keras\n",
    "from tensorflow.keras import layers\n",
    "from sklearn.preprocessing import StandardScaler\n",
    "from sklearn.metrics import classification_report, confusion_matrix, balanced_accuracy_score, matthews_corrcoef, average_precision_score\n",
    "import joblib\n",
    "\n",
    "np.random.seed(SEED)\n",
    "tf.random.set_seed(SEED)\n"
   ]
  },
  {
   "cell_type": "code",
   "execution_count": 60,
   "id": "44414e9d-0397-49fc-9c80-2841f2950d73",
   "metadata": {},
   "outputs": [],
   "source": [
    "df = pd.read_csv(TRAIN_CSV, index_col=0, parse_dates=[0]).sort_index()\n",
    "\n",
    "exp = {\"open\",\"high\",\"low\",\"close\",\"volume\",\"logret_1d\",\"target\"}\n",
    "missing = exp - set(df.columns)\n",
    "assert not missing, f\"Fehlende Spalten: {missing}\"\n",
    "assert not df.index.has_duplicates\n",
    "assert (df[\"close\"] > 0).all()\n",
    "assert df.notna().all().all()\n"
   ]
  },
  {
   "cell_type": "code",
   "execution_count": 61,
   "id": "07b91fc5-71ec-46b3-b625-f02038552a01",
   "metadata": {},
   "outputs": [
    {
     "name": "stdout",
     "output_type": "stream",
     "text": [
      "FEATURES (final): ['logret_1d', 'sma_diff']\n"
     ]
    }
   ],
   "source": [
    "# === 3) Features / Ziel wählen (stationär & robust) ===\n",
    "import os, yaml\n",
    "\n",
    "OHLCV = {\"open\",\"high\",\"low\",\"close\",\"volume\"}\n",
    "\n",
    "# Kandidaten aus DF (alles außer OHLCV + target)\n",
    "candidates_from_df = [c for c in df.columns if c not in OHLCV | {\"target\"}]\n",
    "\n",
    "# YAML laden (falls vorhanden) und schneiden\n",
    "features_yaml = \"../data/features_v1.yml\"\n",
    "yaml_feats = []\n",
    "if os.path.exists(features_yaml):\n",
    "    with open(features_yaml, \"r\") as f:\n",
    "        meta = yaml.safe_load(f) or {}\n",
    "    yaml_feats = list(meta.get(\"features\", []))\n",
    "\n",
    "# Level-Features blocken (driften stark)\n",
    "BLOCKED = {\"sma_10\", \"sma_20\"}\n",
    "\n",
    "# Priorität: YAML ∩ DF, danach DF-Fallback; anschließend Blockliste anwenden\n",
    "FEATURES = [c for c in (yaml_feats or candidates_from_df) if c in candidates_from_df and c not in BLOCKED]\n",
    "\n",
    "# Sicherheit: nur numerische Spalten\n",
    "FEATURES = [c for c in FEATURES if pd.api.types.is_numeric_dtype(df[c])]\n",
    "\n",
    "assert len(FEATURES) > 0, f\"Keine nutzbaren Features gefunden. Im CSV sind Kandidaten: {candidates_from_df}\"\n",
    "print(\"FEATURES (final):\", FEATURES)\n",
    "\n",
    "TARGET = \"target\"\n",
    "X = df[FEATURES].copy()\n",
    "y = df[TARGET].astype(int).copy()\n"
   ]
  },
  {
   "cell_type": "code",
   "execution_count": 62,
   "id": "af24474a-6165-44f4-9243-a688d6372c68",
   "metadata": {},
   "outputs": [
    {
     "name": "stdout",
     "output_type": "stream",
     "text": [
      "Split sizes → train 2381, val 510, test 511\n"
     ]
    }
   ],
   "source": [
    "# === 4) Chronologische Splits (70/15/15) ===\n",
    "n = len(df)\n",
    "n_train = int(n * 0.70)\n",
    "n_val   = int(n * 0.15)\n",
    "n_test  = n - n_train - n_val\n",
    "\n",
    "train_idx = slice(0, n_train)\n",
    "val_idx   = slice(n_train, n_train + n_val)\n",
    "test_idx  = slice(n_train + n_val, n)\n",
    "\n",
    "X_train, y_train = X.iloc[train_idx], y.iloc[train_idx]\n",
    "X_val,   y_val   = X.iloc[val_idx],   y.iloc[val_idx]\n",
    "X_test,  y_test  = X.iloc[test_idx],  y.iloc[test_idx]\n",
    "\n",
    "print(f\"Split sizes → train {len(X_train)}, val {len(X_val)}, test {len(X_test)}\")"
   ]
  },
  {
   "cell_type": "code",
   "execution_count": 63,
   "id": "5c6197b0-c082-48ba-9dd5-6de13a80ed3d",
   "metadata": {},
   "outputs": [
    {
     "name": "stdout",
     "output_type": "stream",
     "text": [
      "X_train shape/check: (2381, 2)  | cols: ['logret_1d', 'sma_diff']\n"
     ]
    }
   ],
   "source": [
    "print(\"X_train shape/check:\", X_train.shape, \" | cols:\", list(X_train.columns))\n"
   ]
  },
  {
   "cell_type": "code",
   "execution_count": 64,
   "id": "3e6af278-7df7-4bd2-beb7-ad8eea7e7bea",
   "metadata": {},
   "outputs": [
    {
     "data": {
      "text/plain": [
       "['..\\\\results\\\\2025-10-06_15-05-18_lstm\\\\scaler.joblib']"
      ]
     },
     "execution_count": 64,
     "metadata": {},
     "output_type": "execute_result"
    }
   ],
   "source": [
    "# === 5) Scaler nur auf TRAIN fitten ===\n",
    "scaler = StandardScaler(with_mean=True, with_std=True)\n",
    "X_train_s = pd.DataFrame(scaler.fit_transform(X_train), index=X_train.index, columns=FEATURES)\n",
    "X_val_s   = pd.DataFrame(scaler.transform(X_val),       index=X_val.index,   columns=FEATURES)\n",
    "X_test_s  = pd.DataFrame(scaler.transform(X_test),      index=X_test.index,  columns=FEATURES)\n",
    "\n",
    "# Scaler speichern (für spätere Runs/Inference)\n",
    "import joblib, io\n",
    "joblib.dump(scaler, RUN_DIR / \"scaler.joblib\")"
   ]
  },
  {
   "cell_type": "code",
   "execution_count": 65,
   "id": "2b8a3e5d-4afb-4c23-b4a0-af4234725c2f",
   "metadata": {},
   "outputs": [
    {
     "name": "stdout",
     "output_type": "stream",
     "text": [
      "     feature  mean_diff  std_ratio\n",
      "0  logret_1d  -0.021755   0.957276\n",
      "1   sma_diff  -0.125661   0.915388\n"
     ]
    }
   ],
   "source": [
    "def drift_summary(Xa: pd.DataFrame, Xb: pd.DataFrame):\n",
    "    out = []\n",
    "    for c in Xa.columns:\n",
    "        m1, s1 = Xa[c].mean(), Xa[c].std(ddof=1)\n",
    "        m2, s2 = Xb[c].mean(), Xb[c].std(ddof=1)\n",
    "        ratio_std = float((s2 + 1e-9) / (s1 + 1e-9))\n",
    "        diff_mean = float(m2 - m1)\n",
    "        out.append({\"feature\": c, \"mean_diff\": diff_mean, \"std_ratio\": ratio_std})\n",
    "    return pd.DataFrame(out).sort_values(\"std_ratio\", ascending=False)\n",
    "\n",
    "drift_df = drift_summary(X_train_s, X_test_s)\n",
    "drift_df.to_csv(RUN_DIR / \"drift_train_vs_test.csv\", index=False)\n",
    "print(drift_df.head())\n"
   ]
  },
  {
   "cell_type": "code",
   "execution_count": 66,
   "id": "0fd4bb55-1b73-42ce-8784-eb60d6b25384",
   "metadata": {},
   "outputs": [],
   "source": [
    "# Warn-/Abbruchschwellen gegen Train→Test-Shift\n",
    "bad = drift_df[(drift_df[\"std_ratio\"] < 0.85) | (drift_df[\"mean_diff\"].abs() > 1.0)]\n",
    "if not bad.empty:\n",
    "    print(\"\\n[WARN] Starker Feature-Shift erkannt:\\n\", bad)\n",
    "    # Optional hart abbrechen:\n",
    "    # raise RuntimeError(\"Zu starker Drift in obigen Features – bitte Feature-Set stationär halten.\")"
   ]
  },
  {
   "cell_type": "code",
   "execution_count": 67,
   "id": "de930d62-f80e-408a-9471-fcdbb3c2b9ef",
   "metadata": {},
   "outputs": [
    {
     "name": "stdout",
     "output_type": "stream",
     "text": [
      "Shapes: \n",
      "  train: (2322, 60, 2) (2322,) \n",
      "  val  : (451, 60, 2) (451,) \n",
      "  test : (452, 60, 2) (452,)\n"
     ]
    }
   ],
   "source": [
    "# === 6) Windowing: Sequenzen der Länge LOOKBACK → Label am Endzeitpunkt ===\n",
    "def make_windows(X_df: pd.DataFrame, y_ser: pd.Series, lookback: int):\n",
    "    X_values = X_df.values.astype(np.float32)\n",
    "    y_values = y_ser.values.astype(np.int32)\n",
    "    n = len(X_df)\n",
    "    xs, ys = [], []\n",
    "    for i in range(lookback-1, n):\n",
    "        xs.append(X_values[i - lookback + 1 : i + 1])  # inkl. i\n",
    "        ys.append(y_values[i])                          # Label für Zeitpunkt i (Up/Down für i->i+H)\n",
    "    return np.stack(xs, axis=0), np.array(ys)\n",
    "\n",
    "Xtr_win, ytr = make_windows(X_train_s, y_train, LOOKBACK)\n",
    "Xva_win, yva = make_windows(X_val_s,   y_val,   LOOKBACK)\n",
    "Xte_win, yte = make_windows(X_test_s,  y_test,  LOOKBACK)\n",
    "\n",
    "print(\"Shapes:\",\n",
    "      \"\\n  train:\", Xtr_win.shape, ytr.shape,\n",
    "      \"\\n  val  :\", Xva_win.shape, yva.shape,\n",
    "      \"\\n  test :\", Xte_win.shape, yte.shape)"
   ]
  },
  {
   "cell_type": "code",
   "execution_count": 68,
   "id": "212356d1-4801-4674-b38b-08bd67d9f0d5",
   "metadata": {},
   "outputs": [
    {
     "name": "stdout",
     "output_type": "stream",
     "text": [
      "class_weight: {0: 1.0554545454545454, 1: 0.9500818330605565}\n"
     ]
    }
   ],
   "source": [
    "# === class_weight (optional) aus Trainingslabels berechnen ===\n",
    "from collections import Counter\n",
    "cw = None\n",
    "counts = Counter(ytr.tolist())\n",
    "if len(counts) == 2:\n",
    "    total = sum(counts.values())\n",
    "    # einfache Invers-Häufigkeit (normalisiert), robust bei leichter Schieflage\n",
    "    cw = {0: total/(2*counts.get(0, 1)), 1: total/(2*counts.get(1, 1))}\n",
    "print(\"class_weight:\", cw)\n"
   ]
  },
  {
   "cell_type": "code",
   "execution_count": 69,
   "id": "a77b7452-9bcd-4b45-b92a-16a8e83f44ef",
   "metadata": {},
   "outputs": [],
   "source": [
    "# === 7) tf.data Pipelines ===\n",
    "def to_ds(X, y, batch, shuffle):\n",
    "    ds = tf.data.Dataset.from_tensor_slices((X, y))\n",
    "    if shuffle:\n",
    "        ds = ds.shuffle(buffer_size=len(X), seed=SEED, reshuffle_each_iteration=True)\n",
    "    return ds.batch(batch).prefetch(tf.data.AUTOTUNE)\n",
    "\n",
    "ds_train = to_ds(Xtr_win, ytr, BATCH, shuffle=True)\n",
    "ds_val   = to_ds(Xva_win, yva, BATCH, shuffle=False)\n",
    "ds_test  = to_ds(Xte_win, yte, BATCH, shuffle=False)"
   ]
  },
  {
   "cell_type": "code",
   "execution_count": 70,
   "id": "6e49b799-942e-4630-b9fd-bf30e257a4e1",
   "metadata": {},
   "outputs": [
    {
     "name": "stdout",
     "output_type": "stream",
     "text": [
      "pos_rate_train: 0.526\n"
     ]
    }
   ],
   "source": [
    "# Basis-Rate im Training (für Output-Bias)\n",
    "pos_rate_train = float(ytr.mean())\n",
    "from math import log\n",
    "def _logit(p): \n",
    "    eps = 1e-6\n",
    "    p = min(max(p, eps), 1-eps)\n",
    "    return log(p/(1-p))\n",
    "output_bias_init = tf.keras.initializers.Constant(_logit(pos_rate_train))\n",
    "print(\"pos_rate_train:\", round(pos_rate_train,3))\n"
   ]
  },
  {
   "cell_type": "code",
   "execution_count": 71,
   "id": "da31a17d-1e28-458b-b4d5-886358ccd96c",
   "metadata": {},
   "outputs": [
    {
     "name": "stdout",
     "output_type": "stream",
     "text": [
      "[Diag] y_proba range: 0.275 .. 0.688, mean=0.526\n",
      "LogReg AUROC: 0.482\n",
      "LogReg MCC@0.5: -0.018\n"
     ]
    }
   ],
   "source": [
    "from sklearn.linear_model import LogisticRegression\n",
    "from sklearn.metrics import roc_auc_score, matthews_corrcoef\n",
    "\n",
    "logit = LogisticRegression(max_iter=200, n_jobs=None)\n",
    "logit.fit(X_train_s.iloc[LOOKBACK-1:], y_train.iloc[LOOKBACK-1:])  # grob: letztes Fensterende\n",
    "y_proba_lr = logit.predict_proba(X_test_s.iloc[LOOKBACK-1:])[:,1]\n",
    "\n",
    "print(f\"[Diag] y_proba range: {y_proba_lr.min():.3f} .. {y_proba_lr.max():.3f}, mean={y_proba_lr.mean():.3f}\")\n",
    "print(\"LogReg AUROC:\", round(roc_auc_score(y_test.iloc[LOOKBACK-1:], y_proba_lr), 3))\n",
    "print(\"LogReg MCC@0.5:\", round(matthews_corrcoef(y_test.iloc[LOOKBACK-1:], (y_proba_lr>=0.5).astype(int)), 3))"
   ]
  },
  {
   "cell_type": "code",
   "execution_count": 72,
   "id": "76d25d1b-8215-40c9-9b57-e469739b9fe8",
   "metadata": {},
   "outputs": [],
   "source": [
    "# === Modell: GRU + Regularisierung ============================================\n",
    "from tensorflow import keras\n",
    "from tensorflow.keras import layers, regularizers\n",
    "\n",
    "USE_FOCAL = bool(C.get(\"use_focal\", True))\n",
    "GAMMA     = float(C.get(\"focal_gamma\", 1.5))\n",
    "ALPHA     = float(C.get(\"focal_alpha\", 0.5))\n",
    "\n",
    "def focal_loss(gamma=2.0, alpha=0.25):\n",
    "    def _loss(y_true, y_pred):\n",
    "        y_true = tf.cast(y_true, tf.float32)\n",
    "        eps = 1e-7\n",
    "        y_pred = tf.clip_by_value(y_pred, eps, 1-eps)\n",
    "        pt = tf.where(tf.equal(y_true, 1), y_pred, 1-y_pred)\n",
    "        w  = tf.where(tf.equal(y_true, 1), alpha, 1-alpha)\n",
    "        return -tf.reduce_mean(w * tf.pow(1.0-pt, gamma) * tf.math.log(pt))\n",
    "    return _loss\n",
    "\n",
    "n_features = Xtr_win.shape[-1]\n",
    "\n",
    "model = keras.Sequential([\n",
    "    layers.Input(shape=(LOOKBACK, n_features)),\n",
    "    layers.GRU(64, return_sequences=True, recurrent_dropout=0.10),\n",
    "    layers.LayerNormalization(),\n",
    "    layers.GRU(32, recurrent_dropout=0.10),\n",
    "    layers.LayerNormalization(),\n",
    "    layers.Dense(16, activation=\"relu\", kernel_regularizer=regularizers.l2(1e-5)),\n",
    "    layers.Dense(1, activation=\"sigmoid\", bias_initializer=output_bias_init),\n",
    "])\n",
    "\n",
    "model.compile(\n",
    "    optimizer=keras.optimizers.Adam(learning_rate=5e-4),\n",
    "    loss=focal_loss(GAMMA, ALPHA) if USE_FOCAL else keras.losses.BinaryCrossentropy(),\n",
    "    metrics=[\n",
    "        keras.metrics.AUC(name=\"auc\"),\n",
    "        keras.metrics.AUC(name=\"auprc\", curve=\"PR\"),\n",
    "        keras.metrics.BinaryAccuracy(name=\"acc\"),\n",
    "        keras.metrics.Precision(name=\"prec\"),\n",
    "        keras.metrics.Recall(name=\"rec\"),\n",
    "    ],\n",
    ")"
   ]
  },
  {
   "cell_type": "code",
   "execution_count": 73,
   "id": "400bb060-c145-413b-a38e-9c4221173f87",
   "metadata": {},
   "outputs": [],
   "source": [
    "ckpt_path = RUN_DIR / \"best.keras\"\n",
    "callbacks = [\n",
    "    keras.callbacks.ModelCheckpoint(\n",
    "        filepath=str(ckpt_path),\n",
    "        monitor=\"val_auprc\", mode=\"max\", save_best_only=True, verbose=1),\n",
    "    keras.callbacks.EarlyStopping(\n",
    "        monitor=\"val_auprc\", mode=\"max\", patience=12, restore_best_weights=True),\n",
    "    keras.callbacks.ReduceLROnPlateau(\n",
    "        monitor=\"val_auprc\", mode=\"max\", factor=0.5, patience=6, min_lr=1e-5, verbose=1),\n",
    "]\n"
   ]
  },
  {
   "cell_type": "code",
   "execution_count": 74,
   "id": "b9ee003a-f770-44c4-8444-4b8096ee3434",
   "metadata": {},
   "outputs": [
    {
     "name": "stdout",
     "output_type": "stream",
     "text": [
      "Epoch 1/100\n",
      "\u001b[1m34/37\u001b[0m \u001b[32m━━━━━━━━━━━━━━━━━━\u001b[0m\u001b[37m━━\u001b[0m \u001b[1m0s\u001b[0m 14ms/step - acc: 0.5180 - auc: 0.5144 - auprc: 0.5344 - loss: 0.1610 - prec: 0.5413 - rec: 0.6328\n",
      "Epoch 1: val_auprc improved from None to 0.48737, saving model to ..\\results\\2025-10-06_15-05-18_lstm\\best.keras\n",
      "\u001b[1m37/37\u001b[0m \u001b[32m━━━━━━━━━━━━━━━━━━━━\u001b[0m\u001b[37m\u001b[0m \u001b[1m3s\u001b[0m 26ms/step - acc: 0.5034 - auc: 0.5016 - auprc: 0.5262 - loss: 0.1431 - prec: 0.5239 - rec: 0.6187 - val_acc: 0.4745 - val_auc: 0.4713 - val_auprc: 0.4874 - val_loss: 0.1292 - val_prec: 0.4828 - val_rec: 0.5526 - learning_rate: 5.0000e-04\n",
      "Epoch 2/100\n",
      "\u001b[1m34/37\u001b[0m \u001b[32m━━━━━━━━━━━━━━━━━━\u001b[0m\u001b[37m━━\u001b[0m \u001b[1m0s\u001b[0m 15ms/step - acc: 0.5273 - auc: 0.5203 - auprc: 0.5668 - loss: 0.1266 - prec: 0.5509 - rec: 0.5823\n",
      "Epoch 2: val_auprc improved from 0.48737 to 0.49512, saving model to ..\\results\\2025-10-06_15-05-18_lstm\\best.keras\n",
      "\u001b[1m37/37\u001b[0m \u001b[32m━━━━━━━━━━━━━━━━━━━━\u001b[0m\u001b[37m\u001b[0m \u001b[1m1s\u001b[0m 17ms/step - acc: 0.5159 - auc: 0.5176 - auprc: 0.5536 - loss: 0.1259 - prec: 0.5364 - rec: 0.5917 - val_acc: 0.5100 - val_auc: 0.4982 - val_auprc: 0.4951 - val_loss: 0.1277 - val_prec: 0.5092 - val_rec: 0.8465 - learning_rate: 5.0000e-04\n",
      "Epoch 3/100\n",
      "\u001b[1m36/37\u001b[0m \u001b[32m━━━━━━━━━━━━━━━━━━━\u001b[0m\u001b[37m━\u001b[0m \u001b[1m0s\u001b[0m 14ms/step - acc: 0.5206 - auc: 0.5204 - auprc: 0.5492 - loss: 0.1248 - prec: 0.5318 - rec: 0.6769\n",
      "Epoch 3: val_auprc improved from 0.49512 to 0.49676, saving model to ..\\results\\2025-10-06_15-05-18_lstm\\best.keras\n",
      "\u001b[1m37/37\u001b[0m \u001b[32m━━━━━━━━━━━━━━━━━━━━\u001b[0m\u001b[37m\u001b[0m \u001b[1m1s\u001b[0m 15ms/step - acc: 0.5245 - auc: 0.5297 - auprc: 0.5629 - loss: 0.1241 - prec: 0.5417 - rec: 0.6277 - val_acc: 0.4900 - val_auc: 0.4961 - val_auprc: 0.4968 - val_loss: 0.1255 - val_prec: 0.4960 - val_rec: 0.5482 - learning_rate: 5.0000e-04\n",
      "Epoch 4/100\n",
      "\u001b[1m34/37\u001b[0m \u001b[32m━━━━━━━━━━━━━━━━━━\u001b[0m\u001b[37m━━\u001b[0m \u001b[1m0s\u001b[0m 13ms/step - acc: 0.5087 - auc: 0.5254 - auprc: 0.5633 - loss: 0.1238 - prec: 0.5261 - rec: 0.6327\n",
      "Epoch 4: val_auprc improved from 0.49676 to 0.50272, saving model to ..\\results\\2025-10-06_15-05-18_lstm\\best.keras\n",
      "\u001b[1m37/37\u001b[0m \u001b[32m━━━━━━━━━━━━━━━━━━━━\u001b[0m\u001b[37m\u001b[0m \u001b[1m1s\u001b[0m 15ms/step - acc: 0.5138 - auc: 0.5280 - auprc: 0.5673 - loss: 0.1239 - prec: 0.5340 - rec: 0.5982 - val_acc: 0.5188 - val_auc: 0.4967 - val_auprc: 0.5027 - val_loss: 0.1262 - val_prec: 0.5171 - val_rec: 0.7281 - learning_rate: 5.0000e-04\n",
      "Epoch 5/100\n",
      "\u001b[1m36/37\u001b[0m \u001b[32m━━━━━━━━━━━━━━━━━━━\u001b[0m\u001b[37m━\u001b[0m \u001b[1m0s\u001b[0m 13ms/step - acc: 0.5452 - auc: 0.5682 - auprc: 0.5741 - loss: 0.1220 - prec: 0.5403 - rec: 0.7442\n",
      "Epoch 5: val_auprc did not improve from 0.50272\n",
      "\u001b[1m37/37\u001b[0m \u001b[32m━━━━━━━━━━━━━━━━━━━━\u001b[0m\u001b[37m\u001b[0m \u001b[1m1s\u001b[0m 15ms/step - acc: 0.5491 - auc: 0.5622 - auprc: 0.5845 - loss: 0.1220 - prec: 0.5544 - rec: 0.7291 - val_acc: 0.4967 - val_auc: 0.4792 - val_auprc: 0.4763 - val_loss: 0.1284 - val_prec: 0.5018 - val_rec: 0.5965 - learning_rate: 5.0000e-04\n",
      "Epoch 6/100\n",
      "\u001b[1m34/37\u001b[0m \u001b[32m━━━━━━━━━━━━━━━━━━\u001b[0m\u001b[37m━━\u001b[0m \u001b[1m0s\u001b[0m 13ms/step - acc: 0.5607 - auc: 0.5867 - auprc: 0.5910 - loss: 0.1215 - prec: 0.5669 - rec: 0.6199\n",
      "Epoch 6: val_auprc improved from 0.50272 to 0.50827, saving model to ..\\results\\2025-10-06_15-05-18_lstm\\best.keras\n",
      "\u001b[1m37/37\u001b[0m \u001b[32m━━━━━━━━━━━━━━━━━━━━\u001b[0m\u001b[37m\u001b[0m \u001b[1m1s\u001b[0m 15ms/step - acc: 0.5521 - auc: 0.5616 - auprc: 0.5781 - loss: 0.1227 - prec: 0.5675 - rec: 0.6260 - val_acc: 0.4945 - val_auc: 0.4920 - val_auprc: 0.5083 - val_loss: 0.1262 - val_prec: 0.5000 - val_rec: 0.5307 - learning_rate: 5.0000e-04\n",
      "Epoch 7/100\n",
      "\u001b[1m32/37\u001b[0m \u001b[32m━━━━━━━━━━━━━━━━━\u001b[0m\u001b[37m━━━\u001b[0m \u001b[1m0s\u001b[0m 13ms/step - acc: 0.5239 - auc: 0.5503 - auprc: 0.5706 - loss: 0.1225 - prec: 0.5300 - rec: 0.6251\n",
      "Epoch 7: val_auprc did not improve from 0.50827\n",
      "\u001b[1m37/37\u001b[0m \u001b[32m━━━━━━━━━━━━━━━━━━━━\u001b[0m\u001b[37m\u001b[0m \u001b[1m1s\u001b[0m 14ms/step - acc: 0.5388 - auc: 0.5550 - auprc: 0.5758 - loss: 0.1225 - prec: 0.5513 - rec: 0.6637 - val_acc: 0.5055 - val_auc: 0.5000 - val_auprc: 0.4997 - val_loss: 0.1257 - val_prec: 0.5109 - val_rec: 0.5132 - learning_rate: 5.0000e-04\n",
      "Epoch 8/100\n",
      "\u001b[1m34/37\u001b[0m \u001b[32m━━━━━━━━━━━━━━━━━━\u001b[0m\u001b[37m━━\u001b[0m \u001b[1m0s\u001b[0m 14ms/step - acc: 0.5414 - auc: 0.5566 - auprc: 0.5628 - loss: 0.1225 - prec: 0.5466 - rec: 0.5505\n",
      "Epoch 8: val_auprc did not improve from 0.50827\n",
      "\u001b[1m37/37\u001b[0m \u001b[32m━━━━━━━━━━━━━━━━━━━━\u001b[0m\u001b[37m\u001b[0m \u001b[1m1s\u001b[0m 15ms/step - acc: 0.5422 - auc: 0.5636 - auprc: 0.5908 - loss: 0.1217 - prec: 0.5603 - rec: 0.6047 - val_acc: 0.5078 - val_auc: 0.4829 - val_auprc: 0.4871 - val_loss: 0.1266 - val_prec: 0.5094 - val_rec: 0.7149 - learning_rate: 5.0000e-04\n",
      "Epoch 9/100\n",
      "\u001b[1m34/37\u001b[0m \u001b[32m━━━━━━━━━━━━━━━━━━\u001b[0m\u001b[37m━━\u001b[0m \u001b[1m0s\u001b[0m 13ms/step - acc: 0.5598 - auc: 0.5802 - auprc: 0.5821 - loss: 0.1217 - prec: 0.5555 - rec: 0.7330\n",
      "Epoch 9: val_auprc did not improve from 0.50827\n",
      "\u001b[1m37/37\u001b[0m \u001b[32m━━━━━━━━━━━━━━━━━━━━\u001b[0m\u001b[37m\u001b[0m \u001b[1m1s\u001b[0m 14ms/step - acc: 0.5564 - auc: 0.5745 - auprc: 0.5967 - loss: 0.1214 - prec: 0.5641 - rec: 0.6915 - val_acc: 0.4900 - val_auc: 0.4874 - val_auprc: 0.4995 - val_loss: 0.1257 - val_prec: 0.4961 - val_rec: 0.5570 - learning_rate: 5.0000e-04\n",
      "Epoch 10/100\n",
      "\u001b[1m33/37\u001b[0m \u001b[32m━━━━━━━━━━━━━━━━━\u001b[0m\u001b[37m━━━\u001b[0m \u001b[1m0s\u001b[0m 13ms/step - acc: 0.5298 - auc: 0.5832 - auprc: 0.6065 - loss: 0.1203 - prec: 0.5395 - rec: 0.6243\n",
      "Epoch 10: val_auprc did not improve from 0.50827\n",
      "\u001b[1m37/37\u001b[0m \u001b[32m━━━━━━━━━━━━━━━━━━━━\u001b[0m\u001b[37m\u001b[0m \u001b[1m1s\u001b[0m 14ms/step - acc: 0.5581 - auc: 0.5979 - auprc: 0.6159 - loss: 0.1195 - prec: 0.5685 - rec: 0.6653 - val_acc: 0.4967 - val_auc: 0.4819 - val_auprc: 0.4858 - val_loss: 0.1274 - val_prec: 0.5018 - val_rec: 0.6184 - learning_rate: 5.0000e-04\n",
      "Epoch 11/100\n",
      "\u001b[1m34/37\u001b[0m \u001b[32m━━━━━━━━━━━━━━━━━━\u001b[0m\u001b[37m━━\u001b[0m \u001b[1m0s\u001b[0m 13ms/step - acc: 0.5691 - auc: 0.6005 - auprc: 0.6117 - loss: 0.1200 - prec: 0.5722 - rec: 0.6769\n",
      "Epoch 11: val_auprc did not improve from 0.50827\n",
      "\u001b[1m37/37\u001b[0m \u001b[32m━━━━━━━━━━━━━━━━━━━━\u001b[0m\u001b[37m\u001b[0m \u001b[1m1s\u001b[0m 14ms/step - acc: 0.5599 - auc: 0.5863 - auprc: 0.6070 - loss: 0.1204 - prec: 0.5713 - rec: 0.6555 - val_acc: 0.5055 - val_auc: 0.4518 - val_auprc: 0.4597 - val_loss: 0.1319 - val_prec: 0.5070 - val_rec: 0.7895 - learning_rate: 5.0000e-04\n",
      "Epoch 12/100\n",
      "\u001b[1m33/37\u001b[0m \u001b[32m━━━━━━━━━━━━━━━━━\u001b[0m\u001b[37m━━━\u001b[0m \u001b[1m0s\u001b[0m 13ms/step - acc: 0.5920 - auc: 0.5969 - auprc: 0.6344 - loss: 0.1188 - prec: 0.6079 - rec: 0.7367\n",
      "Epoch 12: val_auprc did not improve from 0.50827\n",
      "\n",
      "Epoch 12: ReduceLROnPlateau reducing learning rate to 0.0002500000118743628.\n",
      "\u001b[1m37/37\u001b[0m \u001b[32m━━━━━━━━━━━━━━━━━━━━\u001b[0m\u001b[37m\u001b[0m \u001b[1m1s\u001b[0m 15ms/step - acc: 0.5732 - auc: 0.6007 - auprc: 0.6148 - loss: 0.1195 - prec: 0.5844 - rec: 0.6547 - val_acc: 0.4745 - val_auc: 0.4705 - val_auprc: 0.4736 - val_loss: 0.1273 - val_prec: 0.4796 - val_rec: 0.4649 - learning_rate: 5.0000e-04\n",
      "Epoch 13/100\n",
      "\u001b[1m33/37\u001b[0m \u001b[32m━━━━━━━━━━━━━━━━━\u001b[0m\u001b[37m━━━\u001b[0m \u001b[1m0s\u001b[0m 13ms/step - acc: 0.5863 - auc: 0.6190 - auprc: 0.6117 - loss: 0.1189 - prec: 0.5966 - rec: 0.6079\n",
      "Epoch 13: val_auprc did not improve from 0.50827\n",
      "\u001b[1m37/37\u001b[0m \u001b[32m━━━━━━━━━━━━━━━━━━━━\u001b[0m\u001b[37m\u001b[0m \u001b[1m1s\u001b[0m 15ms/step - acc: 0.5818 - auc: 0.6062 - auprc: 0.6122 - loss: 0.1193 - prec: 0.5932 - rec: 0.6538 - val_acc: 0.4856 - val_auc: 0.4787 - val_auprc: 0.4818 - val_loss: 0.1271 - val_prec: 0.4928 - val_rec: 0.5965 - learning_rate: 2.5000e-04\n",
      "Epoch 14/100\n",
      "\u001b[1m34/37\u001b[0m \u001b[32m━━━━━━━━━━━━━━━━━━\u001b[0m\u001b[37m━━\u001b[0m \u001b[1m0s\u001b[0m 13ms/step - acc: 0.5725 - auc: 0.6239 - auprc: 0.6492 - loss: 0.1181 - prec: 0.5726 - rec: 0.7214\n",
      "Epoch 14: val_auprc did not improve from 0.50827\n",
      "\u001b[1m37/37\u001b[0m \u001b[32m━━━━━━━━━━━━━━━━━━━━\u001b[0m\u001b[37m\u001b[0m \u001b[1m1s\u001b[0m 14ms/step - acc: 0.5724 - auc: 0.6117 - auprc: 0.6358 - loss: 0.1187 - prec: 0.5751 - rec: 0.7177 - val_acc: 0.4945 - val_auc: 0.4836 - val_auprc: 0.4836 - val_loss: 0.1267 - val_prec: 0.5000 - val_rec: 0.5219 - learning_rate: 2.5000e-04\n",
      "Epoch 15/100\n",
      "\u001b[1m33/37\u001b[0m \u001b[32m━━━━━━━━━━━━━━━━━\u001b[0m\u001b[37m━━━\u001b[0m \u001b[1m0s\u001b[0m 13ms/step - acc: 0.5867 - auc: 0.6260 - auprc: 0.6503 - loss: 0.1174 - prec: 0.5940 - rec: 0.6792\n",
      "Epoch 15: val_auprc did not improve from 0.50827\n",
      "\u001b[1m37/37\u001b[0m \u001b[32m━━━━━━━━━━━━━━━━━━━━\u001b[0m\u001b[37m\u001b[0m \u001b[1m1s\u001b[0m 14ms/step - acc: 0.5909 - auc: 0.6246 - auprc: 0.6427 - loss: 0.1179 - prec: 0.5994 - rec: 0.6710 - val_acc: 0.5011 - val_auc: 0.4661 - val_auprc: 0.4684 - val_loss: 0.1294 - val_prec: 0.5055 - val_rec: 0.6009 - learning_rate: 2.5000e-04\n",
      "Epoch 16/100\n",
      "\u001b[1m34/37\u001b[0m \u001b[32m━━━━━━━━━━━━━━━━━━\u001b[0m\u001b[37m━━\u001b[0m \u001b[1m0s\u001b[0m 14ms/step - acc: 0.5985 - auc: 0.6225 - auprc: 0.6399 - loss: 0.1178 - prec: 0.6037 - rec: 0.7300\n",
      "Epoch 16: val_auprc did not improve from 0.50827\n",
      "\u001b[1m37/37\u001b[0m \u001b[32m━━━━━━━━━━━━━━━━━━━━\u001b[0m\u001b[37m\u001b[0m \u001b[1m1s\u001b[0m 15ms/step - acc: 0.5861 - auc: 0.6165 - auprc: 0.6288 - loss: 0.1185 - prec: 0.5920 - rec: 0.6874 - val_acc: 0.4900 - val_auc: 0.4673 - val_auprc: 0.4703 - val_loss: 0.1283 - val_prec: 0.4963 - val_rec: 0.5877 - learning_rate: 2.5000e-04\n",
      "Epoch 17/100\n",
      "\u001b[1m34/37\u001b[0m \u001b[32m━━━━━━━━━━━━━━━━━━\u001b[0m\u001b[37m━━\u001b[0m \u001b[1m0s\u001b[0m 13ms/step - acc: 0.5740 - auc: 0.6077 - auprc: 0.6078 - loss: 0.1193 - prec: 0.5678 - rec: 0.7031\n",
      "Epoch 17: val_auprc did not improve from 0.50827\n",
      "\u001b[1m37/37\u001b[0m \u001b[32m━━━━━━━━━━━━━━━━━━━━\u001b[0m\u001b[37m\u001b[0m \u001b[1m1s\u001b[0m 14ms/step - acc: 0.5947 - auc: 0.6250 - auprc: 0.6380 - loss: 0.1178 - prec: 0.5917 - rec: 0.7422 - val_acc: 0.4989 - val_auc: 0.4720 - val_auprc: 0.4752 - val_loss: 0.1276 - val_prec: 0.5036 - val_rec: 0.6096 - learning_rate: 2.5000e-04\n",
      "Epoch 18/100\n",
      "\u001b[1m33/37\u001b[0m \u001b[32m━━━━━━━━━━━━━━━━━\u001b[0m\u001b[37m━━━\u001b[0m \u001b[1m0s\u001b[0m 13ms/step - acc: 0.6156 - auc: 0.6519 - auprc: 0.6703 - loss: 0.1164 - prec: 0.6182 - rec: 0.7129\n",
      "Epoch 18: val_auprc did not improve from 0.50827\n",
      "\n",
      "Epoch 18: ReduceLROnPlateau reducing learning rate to 0.0001250000059371814.\n",
      "\u001b[1m37/37\u001b[0m \u001b[32m━━━━━━━━━━━━━━━━━━━━\u001b[0m\u001b[37m\u001b[0m \u001b[1m1s\u001b[0m 14ms/step - acc: 0.6072 - auc: 0.6361 - auprc: 0.6446 - loss: 0.1174 - prec: 0.6062 - rec: 0.7242 - val_acc: 0.5033 - val_auc: 0.4874 - val_auprc: 0.4876 - val_loss: 0.1270 - val_prec: 0.5078 - val_rec: 0.5746 - learning_rate: 2.5000e-04\n"
     ]
    }
   ],
   "source": [
    "history = model.fit(\n",
    "    ds_train, validation_data=ds_val, epochs=EPOCHS,\n",
    "    callbacks=callbacks, verbose=1, class_weight=cw\n",
    ")\n",
    "\n",
    "# Trainingskurve speichern\n",
    "pd.DataFrame(history.history).to_csv(RUN_DIR / \"history.csv\", index=False)"
   ]
  },
  {
   "cell_type": "code",
   "execution_count": 75,
   "id": "c53ab91e-8441-47ad-9232-7d6146316881",
   "metadata": {},
   "outputs": [],
   "source": [
    "# env-info sauber mitschreiben\n",
    "env_info = {\n",
    "    \"python\": sys.version, \"tensorflow\": tf.__version__,\n",
    "    \"numpy\": np.__version__, \"pandas\": pd.__version__,\n",
    "    \"seed\": SEED, \"lookback\": LOOKBACK, \"features\": FEATURES,\n",
    "    \"batch\": BATCH, \"epochs\": EPOCHS, \"optimizer\": \"Adam(5e-4)\",\n",
    "    \"loss\": \"Focal\" if USE_FOCAL else \"BCE\",\n",
    "    \"metrics\": [\"acc\",\"auc\",\"auprc\",\"prec\",\"rec\"],\n",
    "}\n",
    "with open(RUN_DIR / \"env_info.json\", \"w\") as f: json.dump(env_info, f, indent=2)\n",
    "np.save(RUN_DIR / \"scaler_mean.npy\", scaler.mean_)\n",
    "np.save(RUN_DIR / \"scaler_scale.npy\", scaler.scale_)"
   ]
  },
  {
   "cell_type": "code",
   "execution_count": 76,
   "id": "2a055b6c-b605-4dd4-b1c9-060d2d961ad4",
   "metadata": {},
   "outputs": [
    {
     "name": "stdout",
     "output_type": "stream",
     "text": [
      "Test metrics: {\n",
      "  \"acc\": 0.4712389409542084,\n",
      "  \"auc\": 0.4826410710811615,\n",
      "  \"auprc\": 0.5285444259643555,\n",
      "  \"loss\": 0.12761399149894714,\n",
      "  \"prec\": 0.5103734731674194,\n",
      "  \"rec\": 0.5040983557701111\n",
      "}\n",
      "\n",
      "Confusion matrix (test):\n",
      " [[ 90 118]\n",
      " [121 123]]\n",
      "\n",
      "Classification report (test):\n",
      "               precision    recall  f1-score   support\n",
      "\n",
      "           0      0.427     0.433     0.430       208\n",
      "           1      0.510     0.504     0.507       244\n",
      "\n",
      "    accuracy                          0.471       452\n",
      "   macro avg      0.468     0.468     0.468       452\n",
      "weighted avg      0.472     0.471     0.471       452\n",
      "\n"
     ]
    }
   ],
   "source": [
    "# === 11) Evaluate & Berichte ===\n",
    "# Best Weights sind dank EarlyStopping bereits geladen\n",
    "test_metrics = model.evaluate(ds_test, return_dict=True, verbose=0)\n",
    "print(\"Test metrics:\", json.dumps(test_metrics, indent=2))\n",
    "\n",
    "# Schwellenwert 0.5 (später kalibrierbar)\n",
    "y_proba = model.predict(ds_test, verbose=0).ravel()\n",
    "y_pred  = (y_proba >= 0.5).astype(int)\n",
    "\n",
    "print(\"\\nConfusion matrix (test):\\n\", confusion_matrix(yte, y_pred))\n",
    "print(\"\\nClassification report (test):\\n\", classification_report(yte, y_pred, digits=3))"
   ]
  },
  {
   "cell_type": "code",
   "execution_count": 77,
   "id": "7f537297-0c99-490a-8713-acb51b6620fc",
   "metadata": {},
   "outputs": [
    {
     "name": "stdout",
     "output_type": "stream",
     "text": [
      "\n",
      "[Block3 quick] thr(val@maxMCC)=0.520 | AUROC val/test=0.492/0.482\n",
      "CM(test@thr):\n",
      " [[126  82]\n",
      " [158  86]]\n",
      "              precision    recall  f1-score   support\n",
      "\n",
      "           0      0.444     0.606     0.512       208\n",
      "           1      0.512     0.352     0.417       244\n",
      "\n",
      "    accuracy                          0.469       452\n",
      "   macro avg      0.478     0.479     0.465       452\n",
      "weighted avg      0.481     0.469     0.461       452\n",
      "\n"
     ]
    }
   ],
   "source": [
    "# Val-basierte Schwelle (max MCC, Korridor) direkt in Block 3\n",
    "from sklearn.metrics import matthews_corrcoef, roc_auc_score\n",
    "import numpy as np\n",
    "\n",
    "val_proba = model.predict(ds_val, verbose=0).ravel()\n",
    "\n",
    "def choose_threshold(y_true, y_prob, bounds=(0.2, 0.8)):\n",
    "    uniq = np.unique(y_prob); cand = np.r_[0.0, uniq, 1.0]\n",
    "    best_t, best_s = 0.5, -1\n",
    "    for t in cand:\n",
    "        yp = (y_prob >= t).astype(int)\n",
    "        pr = yp.mean()\n",
    "        if not (bounds[0] <= pr <= bounds[1]): \n",
    "            continue\n",
    "        s = matthews_corrcoef(y_true, yp)\n",
    "        if s > best_s: best_s, best_t = s, float(t)\n",
    "    return best_t\n",
    "\n",
    "thr = choose_threshold(yva, val_proba, bounds=(0.2,0.8))\n",
    "y_pred_thr = (y_proba >= thr).astype(int)\n",
    "\n",
    "print(f\"\\n[Block3 quick] thr(val@maxMCC)={thr:.3f} | AUROC val/test={roc_auc_score(yva, val_proba):.3f}/{roc_auc_score(yte, y_proba):.3f}\")\n",
    "print(\"CM(test@thr):\\n\", confusion_matrix(yte, y_pred_thr))\n",
    "print(classification_report(yte, y_pred_thr, digits=3))\n"
   ]
  },
  {
   "cell_type": "code",
   "execution_count": 78,
   "id": "95bc992f-6ae8-43b7-bda5-4138cfa99a2c",
   "metadata": {},
   "outputs": [
    {
     "name": "stdout",
     "output_type": "stream",
     "text": [
      "Proba stats  (test): min= 0.3815312385559082 max= 0.7077815532684326 mean= 0.5097612142562866\n",
      "AUROC val/test: 0.492 / 0.482\n",
      "⚠️ AUROC < 0.5 auf VAL → Versuch: invertiere Scores (1-p)\n",
      "Confusion (inv, thr=0.5):\n",
      " [[118  90]\n",
      " [123 121]]\n",
      "Report (inv):\n",
      "               precision    recall  f1-score   support\n",
      "\n",
      "           0      0.490     0.567     0.526       208\n",
      "           1      0.573     0.496     0.532       244\n",
      "\n",
      "    accuracy                          0.529       452\n",
      "   macro avg      0.532     0.532     0.529       452\n",
      "weighted avg      0.535     0.529     0.529       452\n",
      "\n"
     ]
    }
   ],
   "source": [
    "# --- Diagnose der Probabilitäten ---\n",
    "import numpy as np\n",
    "from sklearn.metrics import roc_auc_score\n",
    "\n",
    "print(\"Proba stats  (test): min=\", float(y_proba.min()), \n",
    "      \"max=\", float(y_proba.max()), \"mean=\", float(y_proba.mean()))\n",
    "\n",
    "# AUC auf VAL & TEST (Ranking-Qualität, unabhängig vom Threshold)\n",
    "val_proba = model.predict(ds_val, verbose=0).ravel()\n",
    "print(\"AUROC val/test:\", \n",
    "      round(roc_auc_score(yva, val_proba), 3), \"/\", \n",
    "      round(roc_auc_score(yte, y_proba), 3))\n",
    "\n",
    "# Quick check: Ist das Signal invertiert?\n",
    "if roc_auc_score(yva, val_proba) < 0.5:\n",
    "    print(\"⚠️ AUROC < 0.5 auf VAL → Versuch: invertiere Scores (1-p)\")\n",
    "    y_proba_inverted = 1.0 - y_proba\n",
    "    from sklearn.metrics import classification_report, confusion_matrix\n",
    "    y_pred_inv = (y_proba_inverted >= 0.5).astype(int)\n",
    "    print(\"Confusion (inv, thr=0.5):\\n\", confusion_matrix(yte, y_pred_inv))\n",
    "    print(\"Report (inv):\\n\", classification_report(yte, y_pred_inv, digits=3))\n"
   ]
  },
  {
   "cell_type": "code",
   "execution_count": 79,
   "id": "40b21880-6972-4be7-8000-3fe244cd2538",
   "metadata": {},
   "outputs": [
    {
     "name": "stdout",
     "output_type": "stream",
     "text": [
      "Extra test metrics: {\n",
      "  \"balanced_accuracy\": 0.4683953341740227,\n",
      "  \"mcc\": -0.06314777167735369,\n",
      "  \"auprc\": 0.5299499839588934\n",
      "}\n"
     ]
    }
   ],
   "source": [
    "# === Extra Test-Metriken ===\n",
    "bal_acc = balanced_accuracy_score(yte, y_pred)\n",
    "mcc = matthews_corrcoef(yte, y_pred)\n",
    "auprc_test = average_precision_score(yte, y_proba)  # probabilistische PR-Qualität\n",
    "\n",
    "extra = {\n",
    "    \"balanced_accuracy\": float(bal_acc),\n",
    "    \"mcc\": float(mcc),\n",
    "    \"auprc\": float(auprc_test)\n",
    "}\n",
    "print(\"Extra test metrics:\", json.dumps(extra, indent=2))\n",
    "\n",
    "# persistieren\n",
    "with open(RUN_DIR / \"extra_test_metrics.json\", \"w\") as f:\n",
    "    json.dump(extra, f, indent=2)\n"
   ]
  },
  {
   "cell_type": "code",
   "execution_count": 80,
   "id": "978a8ca1-2094-4e71-bce5-33df526f1e58",
   "metadata": {},
   "outputs": [
    {
     "name": "stdout",
     "output_type": "stream",
     "text": [
      "\n",
      "Artefakte gespeichert in: ..\\results\\2025-10-06_15-05-18_lstm\n"
     ]
    }
   ],
   "source": [
    "# === 12) Artefakte sichern ===\n",
    "# Keras-Format (SavedModel) + Gewichte\n",
    "model.save(RUN_DIR / \"model.keras\")\n",
    "np.save(RUN_DIR / \"y_test.npy\", yte)\n",
    "np.save(RUN_DIR / \"y_proba.npy\", y_proba)\n",
    "with open(RUN_DIR / \"config.json\", \"w\") as f:\n",
    "    json.dump({\n",
    "        \"ticker\": TICKER, \"start\": START, \"end\": END, \"interval\": INTERVAL,\n",
    "        \"horizon\": HORIZON, \"lookback\": LOOKBACK, \"features\": FEATURES,\n",
    "        \"scaler\": \"StandardScaler\", \"seed\": SEED, \"batch\": BATCH, \"epochs\": EPOCHS\n",
    "    }, f, indent=2)\n",
    "print(f\"\\nArtefakte gespeichert in: {RUN_DIR}\")"
   ]
  },
  {
   "cell_type": "code",
   "execution_count": null,
   "id": "5c21f136-1586-402a-b44a-e1275cce874a",
   "metadata": {},
   "outputs": [],
   "source": []
  },
  {
   "cell_type": "code",
   "execution_count": null,
   "id": "c074624e-6803-4ed3-bae4-4e2b9ca3dbaa",
   "metadata": {},
   "outputs": [],
   "source": []
  }
 ],
 "metadata": {
  "kernelspec": {
   "display_name": "Python (finance-lstm)",
   "language": "python",
   "name": "finance-lstm"
  },
  "language_info": {
   "codemirror_mode": {
    "name": "ipython",
    "version": 3
   },
   "file_extension": ".py",
   "mimetype": "text/x-python",
   "name": "python",
   "nbconvert_exporter": "python",
   "pygments_lexer": "ipython3",
   "version": "3.10.11"
  }
 },
 "nbformat": 4,
 "nbformat_minor": 5
}
